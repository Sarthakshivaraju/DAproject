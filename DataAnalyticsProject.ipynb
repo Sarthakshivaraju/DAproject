{
 "cells": [
  {
   "cell_type": "code",
   "execution_count": 12,
   "metadata": {},
   "outputs": [],
   "source": [
    "import numpy as np\n",
    "import pandas as pd\n",
    "import matplotlib.pyplot as plt\n",
    "import math\n",
    "from collections import Counter\n",
    "import seaborn as sb"
   ]
  },
  {
   "cell_type": "code",
   "execution_count": 13,
   "metadata": {},
   "outputs": [],
   "source": [
    "imdb=pd.read_csv('C:/Users/SARTHAK/Documents/IMDB.csv')"
   ]
  },
  {
   "cell_type": "code",
   "execution_count": 14,
   "metadata": {},
   "outputs": [
    {
     "data": {
      "text/html": [
       "<div>\n",
       "<style scoped>\n",
       "    .dataframe tbody tr th:only-of-type {\n",
       "        vertical-align: middle;\n",
       "    }\n",
       "\n",
       "    .dataframe tbody tr th {\n",
       "        vertical-align: top;\n",
       "    }\n",
       "\n",
       "    .dataframe thead th {\n",
       "        text-align: right;\n",
       "    }\n",
       "</style>\n",
       "<table border=\"1\" class=\"dataframe\">\n",
       "  <thead>\n",
       "    <tr style=\"text-align: right;\">\n",
       "      <th></th>\n",
       "      <th>Rank</th>\n",
       "      <th>Title</th>\n",
       "      <th>Genre</th>\n",
       "      <th>Description</th>\n",
       "      <th>Director</th>\n",
       "      <th>Actors</th>\n",
       "      <th>Year</th>\n",
       "      <th>Runtime (Minutes)</th>\n",
       "      <th>Rating</th>\n",
       "      <th>Votes</th>\n",
       "      <th>Revenue (Millions)</th>\n",
       "      <th>Metascore</th>\n",
       "    </tr>\n",
       "  </thead>\n",
       "  <tbody>\n",
       "    <tr>\n",
       "      <th>0</th>\n",
       "      <td>1</td>\n",
       "      <td>Guardians of the Galaxy</td>\n",
       "      <td>Action,Adventure,Sci-Fi</td>\n",
       "      <td>A group of intergalactic criminals are forced ...</td>\n",
       "      <td>James Gunn</td>\n",
       "      <td>Chris Pratt, Vin Diesel, Bradley Cooper, Zoe S...</td>\n",
       "      <td>2014</td>\n",
       "      <td>121</td>\n",
       "      <td>8.1</td>\n",
       "      <td>757074</td>\n",
       "      <td>333.13</td>\n",
       "      <td>76.0</td>\n",
       "    </tr>\n",
       "    <tr>\n",
       "      <th>1</th>\n",
       "      <td>2</td>\n",
       "      <td>Prometheus</td>\n",
       "      <td>Adventure,Mystery,Sci-Fi</td>\n",
       "      <td>Following clues to the origin of mankind, a te...</td>\n",
       "      <td>Ridley Scott</td>\n",
       "      <td>Noomi Rapace, Logan Marshall-Green, Michael Fa...</td>\n",
       "      <td>2012</td>\n",
       "      <td>124</td>\n",
       "      <td>7.0</td>\n",
       "      <td>485820</td>\n",
       "      <td>126.46</td>\n",
       "      <td>65.0</td>\n",
       "    </tr>\n",
       "    <tr>\n",
       "      <th>2</th>\n",
       "      <td>3</td>\n",
       "      <td>Split</td>\n",
       "      <td>Horror,Thriller</td>\n",
       "      <td>Three girls are kidnapped by a man with a diag...</td>\n",
       "      <td>M. Night Shyamalan</td>\n",
       "      <td>James McAvoy, Anya Taylor-Joy, Haley Lu Richar...</td>\n",
       "      <td>2016</td>\n",
       "      <td>117</td>\n",
       "      <td>7.3</td>\n",
       "      <td>157606</td>\n",
       "      <td>138.12</td>\n",
       "      <td>62.0</td>\n",
       "    </tr>\n",
       "    <tr>\n",
       "      <th>3</th>\n",
       "      <td>4</td>\n",
       "      <td>Sing</td>\n",
       "      <td>Animation,Comedy,Family</td>\n",
       "      <td>In a city of humanoid animals, a hustling thea...</td>\n",
       "      <td>Christophe Lourdelet</td>\n",
       "      <td>Matthew McConaughey,Reese Witherspoon, Seth Ma...</td>\n",
       "      <td>2016</td>\n",
       "      <td>108</td>\n",
       "      <td>7.2</td>\n",
       "      <td>60545</td>\n",
       "      <td>270.32</td>\n",
       "      <td>59.0</td>\n",
       "    </tr>\n",
       "    <tr>\n",
       "      <th>4</th>\n",
       "      <td>5</td>\n",
       "      <td>Suicide Squad</td>\n",
       "      <td>Action,Adventure,Fantasy</td>\n",
       "      <td>A secret government agency recruits some of th...</td>\n",
       "      <td>David Ayer</td>\n",
       "      <td>Will Smith, Jared Leto, Margot Robbie, Viola D...</td>\n",
       "      <td>2016</td>\n",
       "      <td>123</td>\n",
       "      <td>6.2</td>\n",
       "      <td>393727</td>\n",
       "      <td>325.02</td>\n",
       "      <td>40.0</td>\n",
       "    </tr>\n",
       "  </tbody>\n",
       "</table>\n",
       "</div>"
      ],
      "text/plain": [
       "   Rank                    Title                     Genre  \\\n",
       "0     1  Guardians of the Galaxy   Action,Adventure,Sci-Fi   \n",
       "1     2               Prometheus  Adventure,Mystery,Sci-Fi   \n",
       "2     3                    Split           Horror,Thriller   \n",
       "3     4                     Sing   Animation,Comedy,Family   \n",
       "4     5            Suicide Squad  Action,Adventure,Fantasy   \n",
       "\n",
       "                                         Description              Director  \\\n",
       "0  A group of intergalactic criminals are forced ...            James Gunn   \n",
       "1  Following clues to the origin of mankind, a te...          Ridley Scott   \n",
       "2  Three girls are kidnapped by a man with a diag...    M. Night Shyamalan   \n",
       "3  In a city of humanoid animals, a hustling thea...  Christophe Lourdelet   \n",
       "4  A secret government agency recruits some of th...            David Ayer   \n",
       "\n",
       "                                              Actors  Year  Runtime (Minutes)  \\\n",
       "0  Chris Pratt, Vin Diesel, Bradley Cooper, Zoe S...  2014                121   \n",
       "1  Noomi Rapace, Logan Marshall-Green, Michael Fa...  2012                124   \n",
       "2  James McAvoy, Anya Taylor-Joy, Haley Lu Richar...  2016                117   \n",
       "3  Matthew McConaughey,Reese Witherspoon, Seth Ma...  2016                108   \n",
       "4  Will Smith, Jared Leto, Margot Robbie, Viola D...  2016                123   \n",
       "\n",
       "   Rating   Votes  Revenue (Millions)  Metascore  \n",
       "0     8.1  757074              333.13       76.0  \n",
       "1     7.0  485820              126.46       65.0  \n",
       "2     7.3  157606              138.12       62.0  \n",
       "3     7.2   60545              270.32       59.0  \n",
       "4     6.2  393727              325.02       40.0  "
      ]
     },
     "execution_count": 14,
     "metadata": {},
     "output_type": "execute_result"
    }
   ],
   "source": [
    "imdb.head()"
   ]
  },
  {
   "cell_type": "code",
   "execution_count": 15,
   "metadata": {},
   "outputs": [
    {
     "data": {
      "text/html": [
       "<div>\n",
       "<style scoped>\n",
       "    .dataframe tbody tr th:only-of-type {\n",
       "        vertical-align: middle;\n",
       "    }\n",
       "\n",
       "    .dataframe tbody tr th {\n",
       "        vertical-align: top;\n",
       "    }\n",
       "\n",
       "    .dataframe thead th {\n",
       "        text-align: right;\n",
       "    }\n",
       "</style>\n",
       "<table border=\"1\" class=\"dataframe\">\n",
       "  <thead>\n",
       "    <tr style=\"text-align: right;\">\n",
       "      <th></th>\n",
       "      <th>Rank</th>\n",
       "      <th>Year</th>\n",
       "      <th>Runtime (Minutes)</th>\n",
       "      <th>Rating</th>\n",
       "      <th>Votes</th>\n",
       "      <th>Revenue (Millions)</th>\n",
       "      <th>Metascore</th>\n",
       "    </tr>\n",
       "  </thead>\n",
       "  <tbody>\n",
       "    <tr>\n",
       "      <th>count</th>\n",
       "      <td>1000.000000</td>\n",
       "      <td>1000.000000</td>\n",
       "      <td>1000.000000</td>\n",
       "      <td>1000.000000</td>\n",
       "      <td>1.000000e+03</td>\n",
       "      <td>872.000000</td>\n",
       "      <td>936.000000</td>\n",
       "    </tr>\n",
       "    <tr>\n",
       "      <th>mean</th>\n",
       "      <td>500.500000</td>\n",
       "      <td>2012.783000</td>\n",
       "      <td>113.172000</td>\n",
       "      <td>6.723200</td>\n",
       "      <td>1.698083e+05</td>\n",
       "      <td>82.956376</td>\n",
       "      <td>58.985043</td>\n",
       "    </tr>\n",
       "    <tr>\n",
       "      <th>std</th>\n",
       "      <td>288.819436</td>\n",
       "      <td>3.205962</td>\n",
       "      <td>18.810908</td>\n",
       "      <td>0.945429</td>\n",
       "      <td>1.887626e+05</td>\n",
       "      <td>103.253540</td>\n",
       "      <td>17.194757</td>\n",
       "    </tr>\n",
       "    <tr>\n",
       "      <th>min</th>\n",
       "      <td>1.000000</td>\n",
       "      <td>2006.000000</td>\n",
       "      <td>66.000000</td>\n",
       "      <td>1.900000</td>\n",
       "      <td>6.100000e+01</td>\n",
       "      <td>0.000000</td>\n",
       "      <td>11.000000</td>\n",
       "    </tr>\n",
       "    <tr>\n",
       "      <th>25%</th>\n",
       "      <td>250.750000</td>\n",
       "      <td>2010.000000</td>\n",
       "      <td>100.000000</td>\n",
       "      <td>6.200000</td>\n",
       "      <td>3.630900e+04</td>\n",
       "      <td>13.270000</td>\n",
       "      <td>47.000000</td>\n",
       "    </tr>\n",
       "    <tr>\n",
       "      <th>50%</th>\n",
       "      <td>500.500000</td>\n",
       "      <td>2014.000000</td>\n",
       "      <td>111.000000</td>\n",
       "      <td>6.800000</td>\n",
       "      <td>1.107990e+05</td>\n",
       "      <td>47.985000</td>\n",
       "      <td>59.500000</td>\n",
       "    </tr>\n",
       "    <tr>\n",
       "      <th>75%</th>\n",
       "      <td>750.250000</td>\n",
       "      <td>2016.000000</td>\n",
       "      <td>123.000000</td>\n",
       "      <td>7.400000</td>\n",
       "      <td>2.399098e+05</td>\n",
       "      <td>113.715000</td>\n",
       "      <td>72.000000</td>\n",
       "    </tr>\n",
       "    <tr>\n",
       "      <th>max</th>\n",
       "      <td>1000.000000</td>\n",
       "      <td>2016.000000</td>\n",
       "      <td>191.000000</td>\n",
       "      <td>9.000000</td>\n",
       "      <td>1.791916e+06</td>\n",
       "      <td>936.630000</td>\n",
       "      <td>100.000000</td>\n",
       "    </tr>\n",
       "  </tbody>\n",
       "</table>\n",
       "</div>"
      ],
      "text/plain": [
       "              Rank         Year  Runtime (Minutes)       Rating         Votes  \\\n",
       "count  1000.000000  1000.000000        1000.000000  1000.000000  1.000000e+03   \n",
       "mean    500.500000  2012.783000         113.172000     6.723200  1.698083e+05   \n",
       "std     288.819436     3.205962          18.810908     0.945429  1.887626e+05   \n",
       "min       1.000000  2006.000000          66.000000     1.900000  6.100000e+01   \n",
       "25%     250.750000  2010.000000         100.000000     6.200000  3.630900e+04   \n",
       "50%     500.500000  2014.000000         111.000000     6.800000  1.107990e+05   \n",
       "75%     750.250000  2016.000000         123.000000     7.400000  2.399098e+05   \n",
       "max    1000.000000  2016.000000         191.000000     9.000000  1.791916e+06   \n",
       "\n",
       "       Revenue (Millions)   Metascore  \n",
       "count          872.000000  936.000000  \n",
       "mean            82.956376   58.985043  \n",
       "std            103.253540   17.194757  \n",
       "min              0.000000   11.000000  \n",
       "25%             13.270000   47.000000  \n",
       "50%             47.985000   59.500000  \n",
       "75%            113.715000   72.000000  \n",
       "max            936.630000  100.000000  "
      ]
     },
     "execution_count": 15,
     "metadata": {},
     "output_type": "execute_result"
    }
   ],
   "source": [
    "imdb.describe()"
   ]
  },
  {
   "cell_type": "code",
   "execution_count": 16,
   "metadata": {},
   "outputs": [
    {
     "name": "stdout",
     "output_type": "stream",
     "text": [
      "<class 'pandas.core.frame.DataFrame'>\n",
      "RangeIndex: 1000 entries, 0 to 999\n",
      "Data columns (total 12 columns):\n",
      "Rank                  1000 non-null int64\n",
      "Title                 1000 non-null object\n",
      "Genre                 1000 non-null object\n",
      "Description           1000 non-null object\n",
      "Director              1000 non-null object\n",
      "Actors                1000 non-null object\n",
      "Year                  1000 non-null int64\n",
      "Runtime (Minutes)     1000 non-null int64\n",
      "Rating                1000 non-null float64\n",
      "Votes                 1000 non-null int64\n",
      "Revenue (Millions)    872 non-null float64\n",
      "Metascore             936 non-null float64\n",
      "dtypes: float64(3), int64(4), object(5)\n",
      "memory usage: 93.8+ KB\n"
     ]
    }
   ],
   "source": [
    "imdb.info()"
   ]
  },
  {
   "cell_type": "code",
   "execution_count": 17,
   "metadata": {},
   "outputs": [
    {
     "data": {
      "text/plain": [
       "Index(['Rank', 'Title', 'Genre', 'Description', 'Director', 'Actors', 'Year',\n",
       "       'Runtime (Minutes)', 'Rating', 'Votes', 'Revenue (Millions)',\n",
       "       'Metascore'],\n",
       "      dtype='object')"
      ]
     },
     "execution_count": 17,
     "metadata": {},
     "output_type": "execute_result"
    }
   ],
   "source": [
    "imdb.columns"
   ]
  },
  {
   "cell_type": "code",
   "execution_count": 18,
   "metadata": {},
   "outputs": [
    {
     "name": "stderr",
     "output_type": "stream",
     "text": [
      "C:\\Users\\SARTHAK\\Anaconda3.3\\lib\\site-packages\\pandas\\core\\indexing.py:190: SettingWithCopyWarning: \n",
      "A value is trying to be set on a copy of a slice from a DataFrame\n",
      "\n",
      "See the caveats in the documentation: http://pandas.pydata.org/pandas-docs/stable/indexing.html#indexing-view-versus-copy\n",
      "  self._setitem_with_indexer(indexer, value)\n"
     ]
    }
   ],
   "source": [
    "for index,row in imdb['Revenue (Millions)'].iteritems():\n",
    "    if(row<=0):\n",
    "        imdb['Revenue (Millions)'].loc[index]=np.NaN\n",
    "    else:\n",
    "        imdb['Revenue (Millions)'].loc[index]=row\n",
    "revenue=imdb['Revenue (Millions)']\n",
    "m=np.mean(revenue)\n",
    "imdb['Revenue (Millions)']=imdb['Revenue (Millions)'].fillna(m)"
   ]
  },
  {
   "cell_type": "code",
   "execution_count": null,
   "metadata": {},
   "outputs": [],
   "source": []
  },
  {
   "cell_type": "code",
   "execution_count": 19,
   "metadata": {},
   "outputs": [],
   "source": [
    "#metascore missing value=rating *9.5\n",
    "for index,row in imdb['Metascore'].iteritems():\n",
    "    if(math.isnan(row)):\n",
    "        imdb['Metascore'].loc[index]=(imdb['Rating'].loc[index])*(9.5)\n",
    "    else:\n",
    "        imdb['Metascore'].loc[index]=row\n",
    "        \n"
   ]
  },
  {
   "cell_type": "code",
   "execution_count": 20,
   "metadata": {},
   "outputs": [
    {
     "data": {
      "text/html": [
       "<div>\n",
       "<style scoped>\n",
       "    .dataframe tbody tr th:only-of-type {\n",
       "        vertical-align: middle;\n",
       "    }\n",
       "\n",
       "    .dataframe tbody tr th {\n",
       "        vertical-align: top;\n",
       "    }\n",
       "\n",
       "    .dataframe thead th {\n",
       "        text-align: right;\n",
       "    }\n",
       "</style>\n",
       "<table border=\"1\" class=\"dataframe\">\n",
       "  <thead>\n",
       "    <tr style=\"text-align: right;\">\n",
       "      <th></th>\n",
       "      <th>Rank</th>\n",
       "      <th>Title</th>\n",
       "      <th>Genre</th>\n",
       "      <th>Description</th>\n",
       "      <th>Director</th>\n",
       "      <th>Actors</th>\n",
       "      <th>Year</th>\n",
       "      <th>Runtime (Minutes)</th>\n",
       "      <th>Rating</th>\n",
       "      <th>Votes</th>\n",
       "      <th>Revenue (Millions)</th>\n",
       "      <th>Metascore</th>\n",
       "    </tr>\n",
       "  </thead>\n",
       "  <tbody>\n",
       "    <tr>\n",
       "      <th>0</th>\n",
       "      <td>1</td>\n",
       "      <td>Guardians of the Galaxy</td>\n",
       "      <td>Action,Adventure,Sci-Fi</td>\n",
       "      <td>A group of intergalactic criminals are forced ...</td>\n",
       "      <td>James Gunn</td>\n",
       "      <td>Chris Pratt, Vin Diesel, Bradley Cooper, Zoe S...</td>\n",
       "      <td>2014</td>\n",
       "      <td>121</td>\n",
       "      <td>8.1</td>\n",
       "      <td>757074</td>\n",
       "      <td>333.130000</td>\n",
       "      <td>76.00</td>\n",
       "    </tr>\n",
       "    <tr>\n",
       "      <th>1</th>\n",
       "      <td>2</td>\n",
       "      <td>Prometheus</td>\n",
       "      <td>Adventure,Mystery,Sci-Fi</td>\n",
       "      <td>Following clues to the origin of mankind, a te...</td>\n",
       "      <td>Ridley Scott</td>\n",
       "      <td>Noomi Rapace, Logan Marshall-Green, Michael Fa...</td>\n",
       "      <td>2012</td>\n",
       "      <td>124</td>\n",
       "      <td>7.0</td>\n",
       "      <td>485820</td>\n",
       "      <td>126.460000</td>\n",
       "      <td>65.00</td>\n",
       "    </tr>\n",
       "    <tr>\n",
       "      <th>2</th>\n",
       "      <td>3</td>\n",
       "      <td>Split</td>\n",
       "      <td>Horror,Thriller</td>\n",
       "      <td>Three girls are kidnapped by a man with a diag...</td>\n",
       "      <td>M. Night Shyamalan</td>\n",
       "      <td>James McAvoy, Anya Taylor-Joy, Haley Lu Richar...</td>\n",
       "      <td>2016</td>\n",
       "      <td>117</td>\n",
       "      <td>7.3</td>\n",
       "      <td>157606</td>\n",
       "      <td>138.120000</td>\n",
       "      <td>62.00</td>\n",
       "    </tr>\n",
       "    <tr>\n",
       "      <th>3</th>\n",
       "      <td>4</td>\n",
       "      <td>Sing</td>\n",
       "      <td>Animation,Comedy,Family</td>\n",
       "      <td>In a city of humanoid animals, a hustling thea...</td>\n",
       "      <td>Christophe Lourdelet</td>\n",
       "      <td>Matthew McConaughey,Reese Witherspoon, Seth Ma...</td>\n",
       "      <td>2016</td>\n",
       "      <td>108</td>\n",
       "      <td>7.2</td>\n",
       "      <td>60545</td>\n",
       "      <td>270.320000</td>\n",
       "      <td>59.00</td>\n",
       "    </tr>\n",
       "    <tr>\n",
       "      <th>4</th>\n",
       "      <td>5</td>\n",
       "      <td>Suicide Squad</td>\n",
       "      <td>Action,Adventure,Fantasy</td>\n",
       "      <td>A secret government agency recruits some of th...</td>\n",
       "      <td>David Ayer</td>\n",
       "      <td>Will Smith, Jared Leto, Margot Robbie, Viola D...</td>\n",
       "      <td>2016</td>\n",
       "      <td>123</td>\n",
       "      <td>6.2</td>\n",
       "      <td>393727</td>\n",
       "      <td>325.020000</td>\n",
       "      <td>40.00</td>\n",
       "    </tr>\n",
       "    <tr>\n",
       "      <th>5</th>\n",
       "      <td>6</td>\n",
       "      <td>The Great Wall</td>\n",
       "      <td>Action,Adventure,Fantasy</td>\n",
       "      <td>European mercenaries searching for black powde...</td>\n",
       "      <td>Yimou Zhang</td>\n",
       "      <td>Matt Damon, Tian Jing, Willem Dafoe, Andy Lau</td>\n",
       "      <td>2016</td>\n",
       "      <td>103</td>\n",
       "      <td>6.1</td>\n",
       "      <td>56036</td>\n",
       "      <td>45.130000</td>\n",
       "      <td>42.00</td>\n",
       "    </tr>\n",
       "    <tr>\n",
       "      <th>6</th>\n",
       "      <td>7</td>\n",
       "      <td>La La Land</td>\n",
       "      <td>Comedy,Drama,Music</td>\n",
       "      <td>A jazz pianist falls for an aspiring actress i...</td>\n",
       "      <td>Damien Chazelle</td>\n",
       "      <td>Ryan Gosling, Emma Stone, Rosemarie DeWitt, J....</td>\n",
       "      <td>2016</td>\n",
       "      <td>128</td>\n",
       "      <td>8.3</td>\n",
       "      <td>258682</td>\n",
       "      <td>151.060000</td>\n",
       "      <td>93.00</td>\n",
       "    </tr>\n",
       "    <tr>\n",
       "      <th>7</th>\n",
       "      <td>8</td>\n",
       "      <td>Mindhorn</td>\n",
       "      <td>Comedy</td>\n",
       "      <td>A has-been actor best known for playing the ti...</td>\n",
       "      <td>Sean Foley</td>\n",
       "      <td>Essie Davis, Andrea Riseborough, Julian Barrat...</td>\n",
       "      <td>2016</td>\n",
       "      <td>89</td>\n",
       "      <td>6.4</td>\n",
       "      <td>2490</td>\n",
       "      <td>83.051619</td>\n",
       "      <td>71.00</td>\n",
       "    </tr>\n",
       "    <tr>\n",
       "      <th>8</th>\n",
       "      <td>9</td>\n",
       "      <td>The Lost City of Z</td>\n",
       "      <td>Action,Adventure,Biography</td>\n",
       "      <td>A true-life drama, centering on British explor...</td>\n",
       "      <td>James Gray</td>\n",
       "      <td>Charlie Hunnam, Robert Pattinson, Sienna Mille...</td>\n",
       "      <td>2016</td>\n",
       "      <td>141</td>\n",
       "      <td>7.1</td>\n",
       "      <td>7188</td>\n",
       "      <td>8.010000</td>\n",
       "      <td>78.00</td>\n",
       "    </tr>\n",
       "    <tr>\n",
       "      <th>9</th>\n",
       "      <td>10</td>\n",
       "      <td>Passengers</td>\n",
       "      <td>Adventure,Drama,Romance</td>\n",
       "      <td>A spacecraft traveling to a distant colony pla...</td>\n",
       "      <td>Morten Tyldum</td>\n",
       "      <td>Jennifer Lawrence, Chris Pratt, Michael Sheen,...</td>\n",
       "      <td>2016</td>\n",
       "      <td>116</td>\n",
       "      <td>7.0</td>\n",
       "      <td>192177</td>\n",
       "      <td>100.010000</td>\n",
       "      <td>41.00</td>\n",
       "    </tr>\n",
       "    <tr>\n",
       "      <th>10</th>\n",
       "      <td>11</td>\n",
       "      <td>Fantastic Beasts and Where to Find Them</td>\n",
       "      <td>Adventure,Family,Fantasy</td>\n",
       "      <td>The adventures of writer Newt Scamander in New...</td>\n",
       "      <td>David Yates</td>\n",
       "      <td>Eddie Redmayne, Katherine Waterston, Alison Su...</td>\n",
       "      <td>2016</td>\n",
       "      <td>133</td>\n",
       "      <td>7.5</td>\n",
       "      <td>232072</td>\n",
       "      <td>234.020000</td>\n",
       "      <td>66.00</td>\n",
       "    </tr>\n",
       "    <tr>\n",
       "      <th>11</th>\n",
       "      <td>12</td>\n",
       "      <td>Hidden Figures</td>\n",
       "      <td>Biography,Drama,History</td>\n",
       "      <td>The story of a team of female African-American...</td>\n",
       "      <td>Theodore Melfi</td>\n",
       "      <td>Taraji P. Henson, Octavia Spencer, Janelle Mon...</td>\n",
       "      <td>2016</td>\n",
       "      <td>127</td>\n",
       "      <td>7.8</td>\n",
       "      <td>93103</td>\n",
       "      <td>169.270000</td>\n",
       "      <td>74.00</td>\n",
       "    </tr>\n",
       "    <tr>\n",
       "      <th>12</th>\n",
       "      <td>13</td>\n",
       "      <td>Rogue One</td>\n",
       "      <td>Action,Adventure,Sci-Fi</td>\n",
       "      <td>The Rebel Alliance makes a risky move to steal...</td>\n",
       "      <td>Gareth Edwards</td>\n",
       "      <td>Felicity Jones, Diego Luna, Alan Tudyk, Donnie...</td>\n",
       "      <td>2016</td>\n",
       "      <td>133</td>\n",
       "      <td>7.9</td>\n",
       "      <td>323118</td>\n",
       "      <td>532.170000</td>\n",
       "      <td>65.00</td>\n",
       "    </tr>\n",
       "    <tr>\n",
       "      <th>13</th>\n",
       "      <td>14</td>\n",
       "      <td>Moana</td>\n",
       "      <td>Animation,Adventure,Comedy</td>\n",
       "      <td>In Ancient Polynesia, when a terrible curse in...</td>\n",
       "      <td>Ron Clements</td>\n",
       "      <td>Auli'i Cravalho, Dwayne Johnson, Rachel House,...</td>\n",
       "      <td>2016</td>\n",
       "      <td>107</td>\n",
       "      <td>7.7</td>\n",
       "      <td>118151</td>\n",
       "      <td>248.750000</td>\n",
       "      <td>81.00</td>\n",
       "    </tr>\n",
       "    <tr>\n",
       "      <th>14</th>\n",
       "      <td>15</td>\n",
       "      <td>Colossal</td>\n",
       "      <td>Action,Comedy,Drama</td>\n",
       "      <td>Gloria is an out-of-work party girl forced to ...</td>\n",
       "      <td>Nacho Vigalondo</td>\n",
       "      <td>Anne Hathaway, Jason Sudeikis, Austin Stowell,...</td>\n",
       "      <td>2016</td>\n",
       "      <td>109</td>\n",
       "      <td>6.4</td>\n",
       "      <td>8612</td>\n",
       "      <td>2.870000</td>\n",
       "      <td>70.00</td>\n",
       "    </tr>\n",
       "    <tr>\n",
       "      <th>15</th>\n",
       "      <td>16</td>\n",
       "      <td>The Secret Life of Pets</td>\n",
       "      <td>Animation,Adventure,Comedy</td>\n",
       "      <td>The quiet life of a terrier named Max is upend...</td>\n",
       "      <td>Chris Renaud</td>\n",
       "      <td>Louis C.K., Eric Stonestreet, Kevin Hart, Lake...</td>\n",
       "      <td>2016</td>\n",
       "      <td>87</td>\n",
       "      <td>6.6</td>\n",
       "      <td>120259</td>\n",
       "      <td>368.310000</td>\n",
       "      <td>61.00</td>\n",
       "    </tr>\n",
       "    <tr>\n",
       "      <th>16</th>\n",
       "      <td>17</td>\n",
       "      <td>Hacksaw Ridge</td>\n",
       "      <td>Biography,Drama,History</td>\n",
       "      <td>WWII American Army Medic Desmond T. Doss, who ...</td>\n",
       "      <td>Mel Gibson</td>\n",
       "      <td>Andrew Garfield, Sam Worthington, Luke Bracey,...</td>\n",
       "      <td>2016</td>\n",
       "      <td>139</td>\n",
       "      <td>8.2</td>\n",
       "      <td>211760</td>\n",
       "      <td>67.120000</td>\n",
       "      <td>71.00</td>\n",
       "    </tr>\n",
       "    <tr>\n",
       "      <th>17</th>\n",
       "      <td>18</td>\n",
       "      <td>Jason Bourne</td>\n",
       "      <td>Action,Thriller</td>\n",
       "      <td>The CIA's most dangerous former operative is d...</td>\n",
       "      <td>Paul Greengrass</td>\n",
       "      <td>Matt Damon, Tommy Lee Jones, Alicia Vikander,V...</td>\n",
       "      <td>2016</td>\n",
       "      <td>123</td>\n",
       "      <td>6.7</td>\n",
       "      <td>150823</td>\n",
       "      <td>162.160000</td>\n",
       "      <td>58.00</td>\n",
       "    </tr>\n",
       "    <tr>\n",
       "      <th>18</th>\n",
       "      <td>19</td>\n",
       "      <td>Lion</td>\n",
       "      <td>Biography,Drama</td>\n",
       "      <td>A five-year-old Indian boy gets lost on the st...</td>\n",
       "      <td>Garth Davis</td>\n",
       "      <td>Dev Patel, Nicole Kidman, Rooney Mara, Sunny P...</td>\n",
       "      <td>2016</td>\n",
       "      <td>118</td>\n",
       "      <td>8.1</td>\n",
       "      <td>102061</td>\n",
       "      <td>51.690000</td>\n",
       "      <td>69.00</td>\n",
       "    </tr>\n",
       "    <tr>\n",
       "      <th>19</th>\n",
       "      <td>20</td>\n",
       "      <td>Arrival</td>\n",
       "      <td>Drama,Mystery,Sci-Fi</td>\n",
       "      <td>When twelve mysterious spacecraft appear aroun...</td>\n",
       "      <td>Denis Villeneuve</td>\n",
       "      <td>Amy Adams, Jeremy Renner, Forest Whitaker,Mich...</td>\n",
       "      <td>2016</td>\n",
       "      <td>116</td>\n",
       "      <td>8.0</td>\n",
       "      <td>340798</td>\n",
       "      <td>100.500000</td>\n",
       "      <td>81.00</td>\n",
       "    </tr>\n",
       "    <tr>\n",
       "      <th>20</th>\n",
       "      <td>21</td>\n",
       "      <td>Gold</td>\n",
       "      <td>Adventure,Drama,Thriller</td>\n",
       "      <td>Kenny Wells, a prospector desperate for a luck...</td>\n",
       "      <td>Stephen Gaghan</td>\n",
       "      <td>Matthew McConaughey, Edgar Ramírez, Bryce Dall...</td>\n",
       "      <td>2016</td>\n",
       "      <td>120</td>\n",
       "      <td>6.7</td>\n",
       "      <td>19053</td>\n",
       "      <td>7.220000</td>\n",
       "      <td>49.00</td>\n",
       "    </tr>\n",
       "    <tr>\n",
       "      <th>21</th>\n",
       "      <td>22</td>\n",
       "      <td>Manchester by the Sea</td>\n",
       "      <td>Drama</td>\n",
       "      <td>A depressed uncle is asked to take care of his...</td>\n",
       "      <td>Kenneth Lonergan</td>\n",
       "      <td>Casey Affleck, Michelle Williams, Kyle Chandle...</td>\n",
       "      <td>2016</td>\n",
       "      <td>137</td>\n",
       "      <td>7.9</td>\n",
       "      <td>134213</td>\n",
       "      <td>47.700000</td>\n",
       "      <td>96.00</td>\n",
       "    </tr>\n",
       "    <tr>\n",
       "      <th>22</th>\n",
       "      <td>23</td>\n",
       "      <td>Hounds of Love</td>\n",
       "      <td>Crime,Drama,Horror</td>\n",
       "      <td>A cold-blooded predatory couple while cruising...</td>\n",
       "      <td>Ben Young</td>\n",
       "      <td>Emma Booth, Ashleigh Cummings, Stephen Curry,S...</td>\n",
       "      <td>2016</td>\n",
       "      <td>108</td>\n",
       "      <td>6.7</td>\n",
       "      <td>1115</td>\n",
       "      <td>83.051619</td>\n",
       "      <td>72.00</td>\n",
       "    </tr>\n",
       "    <tr>\n",
       "      <th>23</th>\n",
       "      <td>24</td>\n",
       "      <td>Trolls</td>\n",
       "      <td>Animation,Adventure,Comedy</td>\n",
       "      <td>After the Bergens invade Troll Village, Poppy,...</td>\n",
       "      <td>Walt Dohrn</td>\n",
       "      <td>Anna Kendrick, Justin Timberlake,Zooey Deschan...</td>\n",
       "      <td>2016</td>\n",
       "      <td>92</td>\n",
       "      <td>6.5</td>\n",
       "      <td>38552</td>\n",
       "      <td>153.690000</td>\n",
       "      <td>56.00</td>\n",
       "    </tr>\n",
       "    <tr>\n",
       "      <th>24</th>\n",
       "      <td>25</td>\n",
       "      <td>Independence Day: Resurgence</td>\n",
       "      <td>Action,Adventure,Sci-Fi</td>\n",
       "      <td>Two decades after the first Independence Day i...</td>\n",
       "      <td>Roland Emmerich</td>\n",
       "      <td>Liam Hemsworth, Jeff Goldblum, Bill Pullman,Ma...</td>\n",
       "      <td>2016</td>\n",
       "      <td>120</td>\n",
       "      <td>5.3</td>\n",
       "      <td>127553</td>\n",
       "      <td>103.140000</td>\n",
       "      <td>32.00</td>\n",
       "    </tr>\n",
       "    <tr>\n",
       "      <th>25</th>\n",
       "      <td>26</td>\n",
       "      <td>Paris pieds nus</td>\n",
       "      <td>Comedy</td>\n",
       "      <td>Fiona visits Paris for the first time to assis...</td>\n",
       "      <td>Dominique Abel</td>\n",
       "      <td>Fiona Gordon, Dominique Abel,Emmanuelle Riva, ...</td>\n",
       "      <td>2016</td>\n",
       "      <td>83</td>\n",
       "      <td>6.8</td>\n",
       "      <td>222</td>\n",
       "      <td>83.051619</td>\n",
       "      <td>64.60</td>\n",
       "    </tr>\n",
       "    <tr>\n",
       "      <th>26</th>\n",
       "      <td>27</td>\n",
       "      <td>Bahubali: The Beginning</td>\n",
       "      <td>Action,Adventure,Drama</td>\n",
       "      <td>In ancient India, an adventurous and daring ma...</td>\n",
       "      <td>S.S. Rajamouli</td>\n",
       "      <td>Prabhas, Rana Daggubati, Anushka Shetty,Tamann...</td>\n",
       "      <td>2015</td>\n",
       "      <td>159</td>\n",
       "      <td>8.3</td>\n",
       "      <td>76193</td>\n",
       "      <td>6.500000</td>\n",
       "      <td>78.85</td>\n",
       "    </tr>\n",
       "    <tr>\n",
       "      <th>27</th>\n",
       "      <td>28</td>\n",
       "      <td>Dead Awake</td>\n",
       "      <td>Horror,Thriller</td>\n",
       "      <td>A young woman must save herself and her friend...</td>\n",
       "      <td>Phillip Guzman</td>\n",
       "      <td>Jocelin Donahue, Jesse Bradford, Jesse Borrego...</td>\n",
       "      <td>2016</td>\n",
       "      <td>99</td>\n",
       "      <td>4.7</td>\n",
       "      <td>523</td>\n",
       "      <td>0.010000</td>\n",
       "      <td>44.65</td>\n",
       "    </tr>\n",
       "    <tr>\n",
       "      <th>28</th>\n",
       "      <td>29</td>\n",
       "      <td>Bad Moms</td>\n",
       "      <td>Comedy</td>\n",
       "      <td>When three overworked and under-appreciated mo...</td>\n",
       "      <td>Jon Lucas</td>\n",
       "      <td>Mila Kunis, Kathryn Hahn, Kristen Bell,Christi...</td>\n",
       "      <td>2016</td>\n",
       "      <td>100</td>\n",
       "      <td>6.2</td>\n",
       "      <td>66540</td>\n",
       "      <td>113.080000</td>\n",
       "      <td>60.00</td>\n",
       "    </tr>\n",
       "    <tr>\n",
       "      <th>29</th>\n",
       "      <td>30</td>\n",
       "      <td>Assassin's Creed</td>\n",
       "      <td>Action,Adventure,Drama</td>\n",
       "      <td>When Callum Lynch explores the memories of his...</td>\n",
       "      <td>Justin Kurzel</td>\n",
       "      <td>Michael Fassbender, Marion Cotillard, Jeremy I...</td>\n",
       "      <td>2016</td>\n",
       "      <td>115</td>\n",
       "      <td>5.9</td>\n",
       "      <td>112813</td>\n",
       "      <td>54.650000</td>\n",
       "      <td>36.00</td>\n",
       "    </tr>\n",
       "    <tr>\n",
       "      <th>...</th>\n",
       "      <td>...</td>\n",
       "      <td>...</td>\n",
       "      <td>...</td>\n",
       "      <td>...</td>\n",
       "      <td>...</td>\n",
       "      <td>...</td>\n",
       "      <td>...</td>\n",
       "      <td>...</td>\n",
       "      <td>...</td>\n",
       "      <td>...</td>\n",
       "      <td>...</td>\n",
       "      <td>...</td>\n",
       "    </tr>\n",
       "    <tr>\n",
       "      <th>970</th>\n",
       "      <td>971</td>\n",
       "      <td>Texas Chainsaw 3D</td>\n",
       "      <td>Horror,Thriller</td>\n",
       "      <td>A young woman travels to Texas to collect an i...</td>\n",
       "      <td>John Luessenhop</td>\n",
       "      <td>Alexandra Daddario, Tania Raymonde, Scott East...</td>\n",
       "      <td>2013</td>\n",
       "      <td>92</td>\n",
       "      <td>4.8</td>\n",
       "      <td>37060</td>\n",
       "      <td>34.330000</td>\n",
       "      <td>62.00</td>\n",
       "    </tr>\n",
       "    <tr>\n",
       "      <th>971</th>\n",
       "      <td>972</td>\n",
       "      <td>Disturbia</td>\n",
       "      <td>Drama,Mystery,Thriller</td>\n",
       "      <td>A teen living under house arrest becomes convi...</td>\n",
       "      <td>D.J. Caruso</td>\n",
       "      <td>Shia LaBeouf, David Morse, Carrie-Anne Moss, S...</td>\n",
       "      <td>2007</td>\n",
       "      <td>105</td>\n",
       "      <td>6.9</td>\n",
       "      <td>193491</td>\n",
       "      <td>80.050000</td>\n",
       "      <td>65.55</td>\n",
       "    </tr>\n",
       "    <tr>\n",
       "      <th>972</th>\n",
       "      <td>973</td>\n",
       "      <td>Rock of Ages</td>\n",
       "      <td>Comedy,Drama,Musical</td>\n",
       "      <td>A small town girl and a city boy meet on the S...</td>\n",
       "      <td>Adam Shankman</td>\n",
       "      <td>Julianne Hough, Diego Boneta, Tom Cruise, Alec...</td>\n",
       "      <td>2012</td>\n",
       "      <td>123</td>\n",
       "      <td>5.9</td>\n",
       "      <td>64513</td>\n",
       "      <td>38.510000</td>\n",
       "      <td>47.00</td>\n",
       "    </tr>\n",
       "    <tr>\n",
       "      <th>973</th>\n",
       "      <td>974</td>\n",
       "      <td>Scream 4</td>\n",
       "      <td>Horror,Mystery</td>\n",
       "      <td>Ten years have passed, and Sidney Prescott, wh...</td>\n",
       "      <td>Wes Craven</td>\n",
       "      <td>Neve Campbell, Courteney Cox, David Arquette, ...</td>\n",
       "      <td>2011</td>\n",
       "      <td>111</td>\n",
       "      <td>6.2</td>\n",
       "      <td>108544</td>\n",
       "      <td>38.180000</td>\n",
       "      <td>52.00</td>\n",
       "    </tr>\n",
       "    <tr>\n",
       "      <th>974</th>\n",
       "      <td>975</td>\n",
       "      <td>Queen of Katwe</td>\n",
       "      <td>Biography,Drama,Sport</td>\n",
       "      <td>A Ugandan girl sees her world rapidly change a...</td>\n",
       "      <td>Mira Nair</td>\n",
       "      <td>Madina Nalwanga, David Oyelowo, Lupita Nyong'o...</td>\n",
       "      <td>2016</td>\n",
       "      <td>124</td>\n",
       "      <td>7.4</td>\n",
       "      <td>6753</td>\n",
       "      <td>8.810000</td>\n",
       "      <td>73.00</td>\n",
       "    </tr>\n",
       "    <tr>\n",
       "      <th>975</th>\n",
       "      <td>976</td>\n",
       "      <td>My Big Fat Greek Wedding 2</td>\n",
       "      <td>Comedy,Family,Romance</td>\n",
       "      <td>A Portokalos family secret brings the beloved ...</td>\n",
       "      <td>Kirk Jones</td>\n",
       "      <td>Nia Vardalos, John Corbett, Michael Constantin...</td>\n",
       "      <td>2016</td>\n",
       "      <td>94</td>\n",
       "      <td>6.0</td>\n",
       "      <td>20966</td>\n",
       "      <td>59.570000</td>\n",
       "      <td>37.00</td>\n",
       "    </tr>\n",
       "    <tr>\n",
       "      <th>976</th>\n",
       "      <td>977</td>\n",
       "      <td>Dark Places</td>\n",
       "      <td>Drama,Mystery,Thriller</td>\n",
       "      <td>Libby Day was only eight years old when her fa...</td>\n",
       "      <td>Gilles Paquet-Brenner</td>\n",
       "      <td>Charlize Theron, Nicholas Hoult, Christina Hen...</td>\n",
       "      <td>2015</td>\n",
       "      <td>113</td>\n",
       "      <td>6.2</td>\n",
       "      <td>31634</td>\n",
       "      <td>83.051619</td>\n",
       "      <td>39.00</td>\n",
       "    </tr>\n",
       "    <tr>\n",
       "      <th>977</th>\n",
       "      <td>978</td>\n",
       "      <td>Amateur Night</td>\n",
       "      <td>Comedy</td>\n",
       "      <td>Guy Carter is an award-winning graduate studen...</td>\n",
       "      <td>Lisa Addario</td>\n",
       "      <td>Jason Biggs, Janet Montgomery,Ashley Tisdale, ...</td>\n",
       "      <td>2016</td>\n",
       "      <td>92</td>\n",
       "      <td>5.0</td>\n",
       "      <td>2229</td>\n",
       "      <td>83.051619</td>\n",
       "      <td>38.00</td>\n",
       "    </tr>\n",
       "    <tr>\n",
       "      <th>978</th>\n",
       "      <td>979</td>\n",
       "      <td>It's Only the End of the World</td>\n",
       "      <td>Drama</td>\n",
       "      <td>Louis (Gaspard Ulliel), a terminally ill write...</td>\n",
       "      <td>Xavier Dolan</td>\n",
       "      <td>Nathalie Baye, Vincent Cassel, Marion Cotillar...</td>\n",
       "      <td>2016</td>\n",
       "      <td>97</td>\n",
       "      <td>7.0</td>\n",
       "      <td>10658</td>\n",
       "      <td>83.051619</td>\n",
       "      <td>48.00</td>\n",
       "    </tr>\n",
       "    <tr>\n",
       "      <th>979</th>\n",
       "      <td>980</td>\n",
       "      <td>The Skin I Live In</td>\n",
       "      <td>Drama,Thriller</td>\n",
       "      <td>A brilliant plastic surgeon, haunted by past t...</td>\n",
       "      <td>Pedro Almodóvar</td>\n",
       "      <td>Antonio Banderas, Elena Anaya, Jan Cornet,Mari...</td>\n",
       "      <td>2011</td>\n",
       "      <td>120</td>\n",
       "      <td>7.6</td>\n",
       "      <td>108772</td>\n",
       "      <td>3.190000</td>\n",
       "      <td>70.00</td>\n",
       "    </tr>\n",
       "    <tr>\n",
       "      <th>980</th>\n",
       "      <td>981</td>\n",
       "      <td>Miracles from Heaven</td>\n",
       "      <td>Biography,Drama,Family</td>\n",
       "      <td>A young girl suffering from a rare digestive d...</td>\n",
       "      <td>Patricia Riggen</td>\n",
       "      <td>Jennifer Garner, Kylie Rogers, Martin Henderso...</td>\n",
       "      <td>2016</td>\n",
       "      <td>109</td>\n",
       "      <td>7.0</td>\n",
       "      <td>12048</td>\n",
       "      <td>61.690000</td>\n",
       "      <td>44.00</td>\n",
       "    </tr>\n",
       "    <tr>\n",
       "      <th>981</th>\n",
       "      <td>982</td>\n",
       "      <td>Annie</td>\n",
       "      <td>Comedy,Drama,Family</td>\n",
       "      <td>A foster kid, who lives with her mean foster m...</td>\n",
       "      <td>Will Gluck</td>\n",
       "      <td>Quvenzhané Wallis, Cameron Diaz, Jamie Foxx, R...</td>\n",
       "      <td>2014</td>\n",
       "      <td>118</td>\n",
       "      <td>5.3</td>\n",
       "      <td>27312</td>\n",
       "      <td>85.910000</td>\n",
       "      <td>33.00</td>\n",
       "    </tr>\n",
       "    <tr>\n",
       "      <th>982</th>\n",
       "      <td>983</td>\n",
       "      <td>Across the Universe</td>\n",
       "      <td>Drama,Fantasy,Musical</td>\n",
       "      <td>The music of the Beatles and the Vietnam War f...</td>\n",
       "      <td>Julie Taymor</td>\n",
       "      <td>Evan Rachel Wood, Jim Sturgess, Joe Anderson, ...</td>\n",
       "      <td>2007</td>\n",
       "      <td>133</td>\n",
       "      <td>7.4</td>\n",
       "      <td>95172</td>\n",
       "      <td>24.340000</td>\n",
       "      <td>56.00</td>\n",
       "    </tr>\n",
       "    <tr>\n",
       "      <th>983</th>\n",
       "      <td>984</td>\n",
       "      <td>Let's Be Cops</td>\n",
       "      <td>Comedy</td>\n",
       "      <td>Two struggling pals dress as police officers f...</td>\n",
       "      <td>Luke Greenfield</td>\n",
       "      <td>Jake Johnson, Damon Wayans Jr., Rob Riggle, Ni...</td>\n",
       "      <td>2014</td>\n",
       "      <td>104</td>\n",
       "      <td>6.5</td>\n",
       "      <td>112729</td>\n",
       "      <td>82.390000</td>\n",
       "      <td>30.00</td>\n",
       "    </tr>\n",
       "    <tr>\n",
       "      <th>984</th>\n",
       "      <td>985</td>\n",
       "      <td>Max</td>\n",
       "      <td>Adventure,Family</td>\n",
       "      <td>A Malinois dog that helped American Marines in...</td>\n",
       "      <td>Boaz Yakin</td>\n",
       "      <td>Thomas Haden Church, Josh Wiggins, Luke Kleint...</td>\n",
       "      <td>2015</td>\n",
       "      <td>111</td>\n",
       "      <td>6.8</td>\n",
       "      <td>21405</td>\n",
       "      <td>42.650000</td>\n",
       "      <td>47.00</td>\n",
       "    </tr>\n",
       "    <tr>\n",
       "      <th>985</th>\n",
       "      <td>986</td>\n",
       "      <td>Your Highness</td>\n",
       "      <td>Adventure,Comedy,Fantasy</td>\n",
       "      <td>When Prince Fabious's bride is kidnapped, he g...</td>\n",
       "      <td>David Gordon Green</td>\n",
       "      <td>Danny McBride, Natalie Portman, James Franco, ...</td>\n",
       "      <td>2011</td>\n",
       "      <td>102</td>\n",
       "      <td>5.6</td>\n",
       "      <td>87904</td>\n",
       "      <td>21.560000</td>\n",
       "      <td>31.00</td>\n",
       "    </tr>\n",
       "    <tr>\n",
       "      <th>986</th>\n",
       "      <td>987</td>\n",
       "      <td>Final Destination 5</td>\n",
       "      <td>Horror,Thriller</td>\n",
       "      <td>Survivors of a suspension-bridge collapse lear...</td>\n",
       "      <td>Steven Quale</td>\n",
       "      <td>Nicholas D'Agosto, Emma Bell, Arlen Escarpeta,...</td>\n",
       "      <td>2011</td>\n",
       "      <td>92</td>\n",
       "      <td>5.9</td>\n",
       "      <td>88000</td>\n",
       "      <td>42.580000</td>\n",
       "      <td>50.00</td>\n",
       "    </tr>\n",
       "    <tr>\n",
       "      <th>987</th>\n",
       "      <td>988</td>\n",
       "      <td>Endless Love</td>\n",
       "      <td>Drama,Romance</td>\n",
       "      <td>The story of a privileged girl and a charismat...</td>\n",
       "      <td>Shana Feste</td>\n",
       "      <td>Gabriella Wilde, Alex Pettyfer, Bruce Greenwoo...</td>\n",
       "      <td>2014</td>\n",
       "      <td>104</td>\n",
       "      <td>6.3</td>\n",
       "      <td>33688</td>\n",
       "      <td>23.390000</td>\n",
       "      <td>30.00</td>\n",
       "    </tr>\n",
       "    <tr>\n",
       "      <th>988</th>\n",
       "      <td>989</td>\n",
       "      <td>Martyrs</td>\n",
       "      <td>Horror</td>\n",
       "      <td>A young woman's quest for revenge against the ...</td>\n",
       "      <td>Pascal Laugier</td>\n",
       "      <td>Morjana Alaoui, Mylène Jampanoï, Catherine Bég...</td>\n",
       "      <td>2008</td>\n",
       "      <td>99</td>\n",
       "      <td>7.1</td>\n",
       "      <td>63785</td>\n",
       "      <td>83.051619</td>\n",
       "      <td>89.00</td>\n",
       "    </tr>\n",
       "    <tr>\n",
       "      <th>989</th>\n",
       "      <td>990</td>\n",
       "      <td>Selma</td>\n",
       "      <td>Biography,Drama,History</td>\n",
       "      <td>A chronicle of Martin Luther King's campaign t...</td>\n",
       "      <td>Ava DuVernay</td>\n",
       "      <td>David Oyelowo, Carmen Ejogo, Tim Roth, Lorrain...</td>\n",
       "      <td>2014</td>\n",
       "      <td>128</td>\n",
       "      <td>7.5</td>\n",
       "      <td>67637</td>\n",
       "      <td>52.070000</td>\n",
       "      <td>71.25</td>\n",
       "    </tr>\n",
       "    <tr>\n",
       "      <th>990</th>\n",
       "      <td>991</td>\n",
       "      <td>Underworld: Rise of the Lycans</td>\n",
       "      <td>Action,Adventure,Fantasy</td>\n",
       "      <td>An origins story centered on the centuries-old...</td>\n",
       "      <td>Patrick Tatopoulos</td>\n",
       "      <td>Rhona Mitra, Michael Sheen, Bill Nighy, Steven...</td>\n",
       "      <td>2009</td>\n",
       "      <td>92</td>\n",
       "      <td>6.6</td>\n",
       "      <td>129708</td>\n",
       "      <td>45.800000</td>\n",
       "      <td>44.00</td>\n",
       "    </tr>\n",
       "    <tr>\n",
       "      <th>991</th>\n",
       "      <td>992</td>\n",
       "      <td>Taare Zameen Par</td>\n",
       "      <td>Drama,Family,Music</td>\n",
       "      <td>An eight-year-old boy is thought to be a lazy ...</td>\n",
       "      <td>Aamir Khan</td>\n",
       "      <td>Darsheel Safary, Aamir Khan, Tanay Chheda, Sac...</td>\n",
       "      <td>2007</td>\n",
       "      <td>165</td>\n",
       "      <td>8.5</td>\n",
       "      <td>102697</td>\n",
       "      <td>1.200000</td>\n",
       "      <td>42.00</td>\n",
       "    </tr>\n",
       "    <tr>\n",
       "      <th>992</th>\n",
       "      <td>993</td>\n",
       "      <td>Take Me Home Tonight</td>\n",
       "      <td>Comedy,Drama,Romance</td>\n",
       "      <td>Four years after graduation, an awkward high s...</td>\n",
       "      <td>Michael Dowse</td>\n",
       "      <td>Topher Grace, Anna Faris, Dan Fogler, Teresa P...</td>\n",
       "      <td>2011</td>\n",
       "      <td>97</td>\n",
       "      <td>6.3</td>\n",
       "      <td>45419</td>\n",
       "      <td>6.920000</td>\n",
       "      <td>59.85</td>\n",
       "    </tr>\n",
       "    <tr>\n",
       "      <th>993</th>\n",
       "      <td>994</td>\n",
       "      <td>Resident Evil: Afterlife</td>\n",
       "      <td>Action,Adventure,Horror</td>\n",
       "      <td>While still out to destroy the evil Umbrella C...</td>\n",
       "      <td>Paul W.S. Anderson</td>\n",
       "      <td>Milla Jovovich, Ali Larter, Wentworth Miller,K...</td>\n",
       "      <td>2010</td>\n",
       "      <td>97</td>\n",
       "      <td>5.9</td>\n",
       "      <td>140900</td>\n",
       "      <td>60.130000</td>\n",
       "      <td>37.00</td>\n",
       "    </tr>\n",
       "    <tr>\n",
       "      <th>994</th>\n",
       "      <td>995</td>\n",
       "      <td>Project X</td>\n",
       "      <td>Comedy</td>\n",
       "      <td>3 high school seniors throw a birthday party t...</td>\n",
       "      <td>Nima Nourizadeh</td>\n",
       "      <td>Thomas Mann, Oliver Cooper, Jonathan Daniel Br...</td>\n",
       "      <td>2012</td>\n",
       "      <td>88</td>\n",
       "      <td>6.7</td>\n",
       "      <td>164088</td>\n",
       "      <td>54.720000</td>\n",
       "      <td>48.00</td>\n",
       "    </tr>\n",
       "    <tr>\n",
       "      <th>995</th>\n",
       "      <td>996</td>\n",
       "      <td>Secret in Their Eyes</td>\n",
       "      <td>Crime,Drama,Mystery</td>\n",
       "      <td>A tight-knit team of rising investigators, alo...</td>\n",
       "      <td>Billy Ray</td>\n",
       "      <td>Chiwetel Ejiofor, Nicole Kidman, Julia Roberts...</td>\n",
       "      <td>2015</td>\n",
       "      <td>111</td>\n",
       "      <td>6.2</td>\n",
       "      <td>27585</td>\n",
       "      <td>83.051619</td>\n",
       "      <td>45.00</td>\n",
       "    </tr>\n",
       "    <tr>\n",
       "      <th>996</th>\n",
       "      <td>997</td>\n",
       "      <td>Hostel: Part II</td>\n",
       "      <td>Horror</td>\n",
       "      <td>Three American college students studying abroa...</td>\n",
       "      <td>Eli Roth</td>\n",
       "      <td>Lauren German, Heather Matarazzo, Bijou Philli...</td>\n",
       "      <td>2007</td>\n",
       "      <td>94</td>\n",
       "      <td>5.5</td>\n",
       "      <td>73152</td>\n",
       "      <td>17.540000</td>\n",
       "      <td>46.00</td>\n",
       "    </tr>\n",
       "    <tr>\n",
       "      <th>997</th>\n",
       "      <td>998</td>\n",
       "      <td>Step Up 2: The Streets</td>\n",
       "      <td>Drama,Music,Romance</td>\n",
       "      <td>Romantic sparks occur between two dance studen...</td>\n",
       "      <td>Jon M. Chu</td>\n",
       "      <td>Robert Hoffman, Briana Evigan, Cassie Ventura,...</td>\n",
       "      <td>2008</td>\n",
       "      <td>98</td>\n",
       "      <td>6.2</td>\n",
       "      <td>70699</td>\n",
       "      <td>58.010000</td>\n",
       "      <td>50.00</td>\n",
       "    </tr>\n",
       "    <tr>\n",
       "      <th>998</th>\n",
       "      <td>999</td>\n",
       "      <td>Search Party</td>\n",
       "      <td>Adventure,Comedy</td>\n",
       "      <td>A pair of friends embark on a mission to reuni...</td>\n",
       "      <td>Scot Armstrong</td>\n",
       "      <td>Adam Pally, T.J. Miller, Thomas Middleditch,Sh...</td>\n",
       "      <td>2014</td>\n",
       "      <td>93</td>\n",
       "      <td>5.6</td>\n",
       "      <td>4881</td>\n",
       "      <td>83.051619</td>\n",
       "      <td>22.00</td>\n",
       "    </tr>\n",
       "    <tr>\n",
       "      <th>999</th>\n",
       "      <td>1000</td>\n",
       "      <td>Nine Lives</td>\n",
       "      <td>Comedy,Family,Fantasy</td>\n",
       "      <td>A stuffy businessman finds himself trapped ins...</td>\n",
       "      <td>Barry Sonnenfeld</td>\n",
       "      <td>Kevin Spacey, Jennifer Garner, Robbie Amell,Ch...</td>\n",
       "      <td>2016</td>\n",
       "      <td>87</td>\n",
       "      <td>5.3</td>\n",
       "      <td>12435</td>\n",
       "      <td>19.640000</td>\n",
       "      <td>11.00</td>\n",
       "    </tr>\n",
       "  </tbody>\n",
       "</table>\n",
       "<p>1000 rows × 12 columns</p>\n",
       "</div>"
      ],
      "text/plain": [
       "     Rank                                    Title  \\\n",
       "0       1                  Guardians of the Galaxy   \n",
       "1       2                               Prometheus   \n",
       "2       3                                    Split   \n",
       "3       4                                     Sing   \n",
       "4       5                            Suicide Squad   \n",
       "5       6                           The Great Wall   \n",
       "6       7                               La La Land   \n",
       "7       8                                 Mindhorn   \n",
       "8       9                       The Lost City of Z   \n",
       "9      10                               Passengers   \n",
       "10     11  Fantastic Beasts and Where to Find Them   \n",
       "11     12                           Hidden Figures   \n",
       "12     13                                Rogue One   \n",
       "13     14                                    Moana   \n",
       "14     15                                 Colossal   \n",
       "15     16                  The Secret Life of Pets   \n",
       "16     17                            Hacksaw Ridge   \n",
       "17     18                             Jason Bourne   \n",
       "18     19                                     Lion   \n",
       "19     20                                  Arrival   \n",
       "20     21                                     Gold   \n",
       "21     22                    Manchester by the Sea   \n",
       "22     23                           Hounds of Love   \n",
       "23     24                                   Trolls   \n",
       "24     25             Independence Day: Resurgence   \n",
       "25     26                          Paris pieds nus   \n",
       "26     27                  Bahubali: The Beginning   \n",
       "27     28                               Dead Awake   \n",
       "28     29                                 Bad Moms   \n",
       "29     30                         Assassin's Creed   \n",
       "..    ...                                      ...   \n",
       "970   971                        Texas Chainsaw 3D   \n",
       "971   972                                Disturbia   \n",
       "972   973                             Rock of Ages   \n",
       "973   974                                 Scream 4   \n",
       "974   975                           Queen of Katwe   \n",
       "975   976               My Big Fat Greek Wedding 2   \n",
       "976   977                              Dark Places   \n",
       "977   978                            Amateur Night   \n",
       "978   979           It's Only the End of the World   \n",
       "979   980                       The Skin I Live In   \n",
       "980   981                     Miracles from Heaven   \n",
       "981   982                                    Annie   \n",
       "982   983                      Across the Universe   \n",
       "983   984                            Let's Be Cops   \n",
       "984   985                                      Max   \n",
       "985   986                            Your Highness   \n",
       "986   987                      Final Destination 5   \n",
       "987   988                             Endless Love   \n",
       "988   989                                  Martyrs   \n",
       "989   990                                    Selma   \n",
       "990   991           Underworld: Rise of the Lycans   \n",
       "991   992                         Taare Zameen Par   \n",
       "992   993                     Take Me Home Tonight   \n",
       "993   994                 Resident Evil: Afterlife   \n",
       "994   995                                Project X   \n",
       "995   996                     Secret in Their Eyes   \n",
       "996   997                          Hostel: Part II   \n",
       "997   998                   Step Up 2: The Streets   \n",
       "998   999                             Search Party   \n",
       "999  1000                               Nine Lives   \n",
       "\n",
       "                          Genre  \\\n",
       "0       Action,Adventure,Sci-Fi   \n",
       "1      Adventure,Mystery,Sci-Fi   \n",
       "2               Horror,Thriller   \n",
       "3       Animation,Comedy,Family   \n",
       "4      Action,Adventure,Fantasy   \n",
       "5      Action,Adventure,Fantasy   \n",
       "6            Comedy,Drama,Music   \n",
       "7                        Comedy   \n",
       "8    Action,Adventure,Biography   \n",
       "9       Adventure,Drama,Romance   \n",
       "10     Adventure,Family,Fantasy   \n",
       "11      Biography,Drama,History   \n",
       "12      Action,Adventure,Sci-Fi   \n",
       "13   Animation,Adventure,Comedy   \n",
       "14          Action,Comedy,Drama   \n",
       "15   Animation,Adventure,Comedy   \n",
       "16      Biography,Drama,History   \n",
       "17              Action,Thriller   \n",
       "18              Biography,Drama   \n",
       "19         Drama,Mystery,Sci-Fi   \n",
       "20     Adventure,Drama,Thriller   \n",
       "21                        Drama   \n",
       "22           Crime,Drama,Horror   \n",
       "23   Animation,Adventure,Comedy   \n",
       "24      Action,Adventure,Sci-Fi   \n",
       "25                       Comedy   \n",
       "26       Action,Adventure,Drama   \n",
       "27              Horror,Thriller   \n",
       "28                       Comedy   \n",
       "29       Action,Adventure,Drama   \n",
       "..                          ...   \n",
       "970             Horror,Thriller   \n",
       "971      Drama,Mystery,Thriller   \n",
       "972        Comedy,Drama,Musical   \n",
       "973              Horror,Mystery   \n",
       "974       Biography,Drama,Sport   \n",
       "975       Comedy,Family,Romance   \n",
       "976      Drama,Mystery,Thriller   \n",
       "977                      Comedy   \n",
       "978                       Drama   \n",
       "979              Drama,Thriller   \n",
       "980      Biography,Drama,Family   \n",
       "981         Comedy,Drama,Family   \n",
       "982       Drama,Fantasy,Musical   \n",
       "983                      Comedy   \n",
       "984            Adventure,Family   \n",
       "985    Adventure,Comedy,Fantasy   \n",
       "986             Horror,Thriller   \n",
       "987               Drama,Romance   \n",
       "988                      Horror   \n",
       "989     Biography,Drama,History   \n",
       "990    Action,Adventure,Fantasy   \n",
       "991          Drama,Family,Music   \n",
       "992        Comedy,Drama,Romance   \n",
       "993     Action,Adventure,Horror   \n",
       "994                      Comedy   \n",
       "995         Crime,Drama,Mystery   \n",
       "996                      Horror   \n",
       "997         Drama,Music,Romance   \n",
       "998            Adventure,Comedy   \n",
       "999       Comedy,Family,Fantasy   \n",
       "\n",
       "                                           Description               Director  \\\n",
       "0    A group of intergalactic criminals are forced ...             James Gunn   \n",
       "1    Following clues to the origin of mankind, a te...           Ridley Scott   \n",
       "2    Three girls are kidnapped by a man with a diag...     M. Night Shyamalan   \n",
       "3    In a city of humanoid animals, a hustling thea...   Christophe Lourdelet   \n",
       "4    A secret government agency recruits some of th...             David Ayer   \n",
       "5    European mercenaries searching for black powde...            Yimou Zhang   \n",
       "6    A jazz pianist falls for an aspiring actress i...        Damien Chazelle   \n",
       "7    A has-been actor best known for playing the ti...             Sean Foley   \n",
       "8    A true-life drama, centering on British explor...             James Gray   \n",
       "9    A spacecraft traveling to a distant colony pla...          Morten Tyldum   \n",
       "10   The adventures of writer Newt Scamander in New...            David Yates   \n",
       "11   The story of a team of female African-American...         Theodore Melfi   \n",
       "12   The Rebel Alliance makes a risky move to steal...         Gareth Edwards   \n",
       "13   In Ancient Polynesia, when a terrible curse in...           Ron Clements   \n",
       "14   Gloria is an out-of-work party girl forced to ...        Nacho Vigalondo   \n",
       "15   The quiet life of a terrier named Max is upend...           Chris Renaud   \n",
       "16   WWII American Army Medic Desmond T. Doss, who ...             Mel Gibson   \n",
       "17   The CIA's most dangerous former operative is d...        Paul Greengrass   \n",
       "18   A five-year-old Indian boy gets lost on the st...            Garth Davis   \n",
       "19   When twelve mysterious spacecraft appear aroun...       Denis Villeneuve   \n",
       "20   Kenny Wells, a prospector desperate for a luck...         Stephen Gaghan   \n",
       "21   A depressed uncle is asked to take care of his...       Kenneth Lonergan   \n",
       "22   A cold-blooded predatory couple while cruising...              Ben Young   \n",
       "23   After the Bergens invade Troll Village, Poppy,...             Walt Dohrn   \n",
       "24   Two decades after the first Independence Day i...        Roland Emmerich   \n",
       "25   Fiona visits Paris for the first time to assis...         Dominique Abel   \n",
       "26   In ancient India, an adventurous and daring ma...         S.S. Rajamouli   \n",
       "27   A young woman must save herself and her friend...         Phillip Guzman   \n",
       "28   When three overworked and under-appreciated mo...              Jon Lucas   \n",
       "29   When Callum Lynch explores the memories of his...          Justin Kurzel   \n",
       "..                                                 ...                    ...   \n",
       "970  A young woman travels to Texas to collect an i...        John Luessenhop   \n",
       "971  A teen living under house arrest becomes convi...            D.J. Caruso   \n",
       "972  A small town girl and a city boy meet on the S...          Adam Shankman   \n",
       "973  Ten years have passed, and Sidney Prescott, wh...             Wes Craven   \n",
       "974  A Ugandan girl sees her world rapidly change a...              Mira Nair   \n",
       "975  A Portokalos family secret brings the beloved ...             Kirk Jones   \n",
       "976  Libby Day was only eight years old when her fa...  Gilles Paquet-Brenner   \n",
       "977  Guy Carter is an award-winning graduate studen...           Lisa Addario   \n",
       "978  Louis (Gaspard Ulliel), a terminally ill write...           Xavier Dolan   \n",
       "979  A brilliant plastic surgeon, haunted by past t...        Pedro Almodóvar   \n",
       "980  A young girl suffering from a rare digestive d...        Patricia Riggen   \n",
       "981  A foster kid, who lives with her mean foster m...             Will Gluck   \n",
       "982  The music of the Beatles and the Vietnam War f...           Julie Taymor   \n",
       "983  Two struggling pals dress as police officers f...        Luke Greenfield   \n",
       "984  A Malinois dog that helped American Marines in...             Boaz Yakin   \n",
       "985  When Prince Fabious's bride is kidnapped, he g...     David Gordon Green   \n",
       "986  Survivors of a suspension-bridge collapse lear...           Steven Quale   \n",
       "987  The story of a privileged girl and a charismat...            Shana Feste   \n",
       "988  A young woman's quest for revenge against the ...         Pascal Laugier   \n",
       "989  A chronicle of Martin Luther King's campaign t...           Ava DuVernay   \n",
       "990  An origins story centered on the centuries-old...     Patrick Tatopoulos   \n",
       "991  An eight-year-old boy is thought to be a lazy ...             Aamir Khan   \n",
       "992  Four years after graduation, an awkward high s...          Michael Dowse   \n",
       "993  While still out to destroy the evil Umbrella C...     Paul W.S. Anderson   \n",
       "994  3 high school seniors throw a birthday party t...        Nima Nourizadeh   \n",
       "995  A tight-knit team of rising investigators, alo...              Billy Ray   \n",
       "996  Three American college students studying abroa...               Eli Roth   \n",
       "997  Romantic sparks occur between two dance studen...             Jon M. Chu   \n",
       "998  A pair of friends embark on a mission to reuni...         Scot Armstrong   \n",
       "999  A stuffy businessman finds himself trapped ins...       Barry Sonnenfeld   \n",
       "\n",
       "                                                Actors  Year  \\\n",
       "0    Chris Pratt, Vin Diesel, Bradley Cooper, Zoe S...  2014   \n",
       "1    Noomi Rapace, Logan Marshall-Green, Michael Fa...  2012   \n",
       "2    James McAvoy, Anya Taylor-Joy, Haley Lu Richar...  2016   \n",
       "3    Matthew McConaughey,Reese Witherspoon, Seth Ma...  2016   \n",
       "4    Will Smith, Jared Leto, Margot Robbie, Viola D...  2016   \n",
       "5        Matt Damon, Tian Jing, Willem Dafoe, Andy Lau  2016   \n",
       "6    Ryan Gosling, Emma Stone, Rosemarie DeWitt, J....  2016   \n",
       "7    Essie Davis, Andrea Riseborough, Julian Barrat...  2016   \n",
       "8    Charlie Hunnam, Robert Pattinson, Sienna Mille...  2016   \n",
       "9    Jennifer Lawrence, Chris Pratt, Michael Sheen,...  2016   \n",
       "10   Eddie Redmayne, Katherine Waterston, Alison Su...  2016   \n",
       "11   Taraji P. Henson, Octavia Spencer, Janelle Mon...  2016   \n",
       "12   Felicity Jones, Diego Luna, Alan Tudyk, Donnie...  2016   \n",
       "13   Auli'i Cravalho, Dwayne Johnson, Rachel House,...  2016   \n",
       "14   Anne Hathaway, Jason Sudeikis, Austin Stowell,...  2016   \n",
       "15   Louis C.K., Eric Stonestreet, Kevin Hart, Lake...  2016   \n",
       "16   Andrew Garfield, Sam Worthington, Luke Bracey,...  2016   \n",
       "17   Matt Damon, Tommy Lee Jones, Alicia Vikander,V...  2016   \n",
       "18   Dev Patel, Nicole Kidman, Rooney Mara, Sunny P...  2016   \n",
       "19   Amy Adams, Jeremy Renner, Forest Whitaker,Mich...  2016   \n",
       "20   Matthew McConaughey, Edgar Ramírez, Bryce Dall...  2016   \n",
       "21   Casey Affleck, Michelle Williams, Kyle Chandle...  2016   \n",
       "22   Emma Booth, Ashleigh Cummings, Stephen Curry,S...  2016   \n",
       "23   Anna Kendrick, Justin Timberlake,Zooey Deschan...  2016   \n",
       "24   Liam Hemsworth, Jeff Goldblum, Bill Pullman,Ma...  2016   \n",
       "25   Fiona Gordon, Dominique Abel,Emmanuelle Riva, ...  2016   \n",
       "26   Prabhas, Rana Daggubati, Anushka Shetty,Tamann...  2015   \n",
       "27   Jocelin Donahue, Jesse Bradford, Jesse Borrego...  2016   \n",
       "28   Mila Kunis, Kathryn Hahn, Kristen Bell,Christi...  2016   \n",
       "29   Michael Fassbender, Marion Cotillard, Jeremy I...  2016   \n",
       "..                                                 ...   ...   \n",
       "970  Alexandra Daddario, Tania Raymonde, Scott East...  2013   \n",
       "971  Shia LaBeouf, David Morse, Carrie-Anne Moss, S...  2007   \n",
       "972  Julianne Hough, Diego Boneta, Tom Cruise, Alec...  2012   \n",
       "973  Neve Campbell, Courteney Cox, David Arquette, ...  2011   \n",
       "974  Madina Nalwanga, David Oyelowo, Lupita Nyong'o...  2016   \n",
       "975  Nia Vardalos, John Corbett, Michael Constantin...  2016   \n",
       "976  Charlize Theron, Nicholas Hoult, Christina Hen...  2015   \n",
       "977  Jason Biggs, Janet Montgomery,Ashley Tisdale, ...  2016   \n",
       "978  Nathalie Baye, Vincent Cassel, Marion Cotillar...  2016   \n",
       "979  Antonio Banderas, Elena Anaya, Jan Cornet,Mari...  2011   \n",
       "980  Jennifer Garner, Kylie Rogers, Martin Henderso...  2016   \n",
       "981  Quvenzhané Wallis, Cameron Diaz, Jamie Foxx, R...  2014   \n",
       "982  Evan Rachel Wood, Jim Sturgess, Joe Anderson, ...  2007   \n",
       "983  Jake Johnson, Damon Wayans Jr., Rob Riggle, Ni...  2014   \n",
       "984  Thomas Haden Church, Josh Wiggins, Luke Kleint...  2015   \n",
       "985  Danny McBride, Natalie Portman, James Franco, ...  2011   \n",
       "986  Nicholas D'Agosto, Emma Bell, Arlen Escarpeta,...  2011   \n",
       "987  Gabriella Wilde, Alex Pettyfer, Bruce Greenwoo...  2014   \n",
       "988  Morjana Alaoui, Mylène Jampanoï, Catherine Bég...  2008   \n",
       "989  David Oyelowo, Carmen Ejogo, Tim Roth, Lorrain...  2014   \n",
       "990  Rhona Mitra, Michael Sheen, Bill Nighy, Steven...  2009   \n",
       "991  Darsheel Safary, Aamir Khan, Tanay Chheda, Sac...  2007   \n",
       "992  Topher Grace, Anna Faris, Dan Fogler, Teresa P...  2011   \n",
       "993  Milla Jovovich, Ali Larter, Wentworth Miller,K...  2010   \n",
       "994  Thomas Mann, Oliver Cooper, Jonathan Daniel Br...  2012   \n",
       "995  Chiwetel Ejiofor, Nicole Kidman, Julia Roberts...  2015   \n",
       "996  Lauren German, Heather Matarazzo, Bijou Philli...  2007   \n",
       "997  Robert Hoffman, Briana Evigan, Cassie Ventura,...  2008   \n",
       "998  Adam Pally, T.J. Miller, Thomas Middleditch,Sh...  2014   \n",
       "999  Kevin Spacey, Jennifer Garner, Robbie Amell,Ch...  2016   \n",
       "\n",
       "     Runtime (Minutes)  Rating   Votes  Revenue (Millions)  Metascore  \n",
       "0                  121     8.1  757074          333.130000      76.00  \n",
       "1                  124     7.0  485820          126.460000      65.00  \n",
       "2                  117     7.3  157606          138.120000      62.00  \n",
       "3                  108     7.2   60545          270.320000      59.00  \n",
       "4                  123     6.2  393727          325.020000      40.00  \n",
       "5                  103     6.1   56036           45.130000      42.00  \n",
       "6                  128     8.3  258682          151.060000      93.00  \n",
       "7                   89     6.4    2490           83.051619      71.00  \n",
       "8                  141     7.1    7188            8.010000      78.00  \n",
       "9                  116     7.0  192177          100.010000      41.00  \n",
       "10                 133     7.5  232072          234.020000      66.00  \n",
       "11                 127     7.8   93103          169.270000      74.00  \n",
       "12                 133     7.9  323118          532.170000      65.00  \n",
       "13                 107     7.7  118151          248.750000      81.00  \n",
       "14                 109     6.4    8612            2.870000      70.00  \n",
       "15                  87     6.6  120259          368.310000      61.00  \n",
       "16                 139     8.2  211760           67.120000      71.00  \n",
       "17                 123     6.7  150823          162.160000      58.00  \n",
       "18                 118     8.1  102061           51.690000      69.00  \n",
       "19                 116     8.0  340798          100.500000      81.00  \n",
       "20                 120     6.7   19053            7.220000      49.00  \n",
       "21                 137     7.9  134213           47.700000      96.00  \n",
       "22                 108     6.7    1115           83.051619      72.00  \n",
       "23                  92     6.5   38552          153.690000      56.00  \n",
       "24                 120     5.3  127553          103.140000      32.00  \n",
       "25                  83     6.8     222           83.051619      64.60  \n",
       "26                 159     8.3   76193            6.500000      78.85  \n",
       "27                  99     4.7     523            0.010000      44.65  \n",
       "28                 100     6.2   66540          113.080000      60.00  \n",
       "29                 115     5.9  112813           54.650000      36.00  \n",
       "..                 ...     ...     ...                 ...        ...  \n",
       "970                 92     4.8   37060           34.330000      62.00  \n",
       "971                105     6.9  193491           80.050000      65.55  \n",
       "972                123     5.9   64513           38.510000      47.00  \n",
       "973                111     6.2  108544           38.180000      52.00  \n",
       "974                124     7.4    6753            8.810000      73.00  \n",
       "975                 94     6.0   20966           59.570000      37.00  \n",
       "976                113     6.2   31634           83.051619      39.00  \n",
       "977                 92     5.0    2229           83.051619      38.00  \n",
       "978                 97     7.0   10658           83.051619      48.00  \n",
       "979                120     7.6  108772            3.190000      70.00  \n",
       "980                109     7.0   12048           61.690000      44.00  \n",
       "981                118     5.3   27312           85.910000      33.00  \n",
       "982                133     7.4   95172           24.340000      56.00  \n",
       "983                104     6.5  112729           82.390000      30.00  \n",
       "984                111     6.8   21405           42.650000      47.00  \n",
       "985                102     5.6   87904           21.560000      31.00  \n",
       "986                 92     5.9   88000           42.580000      50.00  \n",
       "987                104     6.3   33688           23.390000      30.00  \n",
       "988                 99     7.1   63785           83.051619      89.00  \n",
       "989                128     7.5   67637           52.070000      71.25  \n",
       "990                 92     6.6  129708           45.800000      44.00  \n",
       "991                165     8.5  102697            1.200000      42.00  \n",
       "992                 97     6.3   45419            6.920000      59.85  \n",
       "993                 97     5.9  140900           60.130000      37.00  \n",
       "994                 88     6.7  164088           54.720000      48.00  \n",
       "995                111     6.2   27585           83.051619      45.00  \n",
       "996                 94     5.5   73152           17.540000      46.00  \n",
       "997                 98     6.2   70699           58.010000      50.00  \n",
       "998                 93     5.6    4881           83.051619      22.00  \n",
       "999                 87     5.3   12435           19.640000      11.00  \n",
       "\n",
       "[1000 rows x 12 columns]"
      ]
     },
     "execution_count": 20,
     "metadata": {},
     "output_type": "execute_result"
    }
   ],
   "source": [
    "pd.DataFrame(imdb)"
   ]
  },
  {
   "cell_type": "code",
   "execution_count": 21,
   "metadata": {},
   "outputs": [
    {
     "data": {
      "text/html": [
       "<div>\n",
       "<style scoped>\n",
       "    .dataframe tbody tr th:only-of-type {\n",
       "        vertical-align: middle;\n",
       "    }\n",
       "\n",
       "    .dataframe tbody tr th {\n",
       "        vertical-align: top;\n",
       "    }\n",
       "\n",
       "    .dataframe thead th {\n",
       "        text-align: right;\n",
       "    }\n",
       "</style>\n",
       "<table border=\"1\" class=\"dataframe\">\n",
       "  <thead>\n",
       "    <tr style=\"text-align: right;\">\n",
       "      <th></th>\n",
       "      <th>Rank</th>\n",
       "      <th>Year</th>\n",
       "      <th>Runtime (Minutes)</th>\n",
       "      <th>Rating</th>\n",
       "      <th>Votes</th>\n",
       "      <th>Revenue (Millions)</th>\n",
       "      <th>Metascore</th>\n",
       "    </tr>\n",
       "  </thead>\n",
       "  <tbody>\n",
       "    <tr>\n",
       "      <th>count</th>\n",
       "      <td>1000.000000</td>\n",
       "      <td>1000.000000</td>\n",
       "      <td>1000.000000</td>\n",
       "      <td>1000.000000</td>\n",
       "      <td>1.000000e+03</td>\n",
       "      <td>1000.000000</td>\n",
       "      <td>1000.000000</td>\n",
       "    </tr>\n",
       "    <tr>\n",
       "      <th>mean</th>\n",
       "      <td>500.500000</td>\n",
       "      <td>2012.783000</td>\n",
       "      <td>113.172000</td>\n",
       "      <td>6.723200</td>\n",
       "      <td>1.698083e+05</td>\n",
       "      <td>83.051619</td>\n",
       "      <td>59.244650</td>\n",
       "    </tr>\n",
       "    <tr>\n",
       "      <th>std</th>\n",
       "      <td>288.819436</td>\n",
       "      <td>3.205962</td>\n",
       "      <td>18.810908</td>\n",
       "      <td>0.945429</td>\n",
       "      <td>1.887626e+05</td>\n",
       "      <td>96.376270</td>\n",
       "      <td>16.865557</td>\n",
       "    </tr>\n",
       "    <tr>\n",
       "      <th>min</th>\n",
       "      <td>1.000000</td>\n",
       "      <td>2006.000000</td>\n",
       "      <td>66.000000</td>\n",
       "      <td>1.900000</td>\n",
       "      <td>6.100000e+01</td>\n",
       "      <td>0.010000</td>\n",
       "      <td>11.000000</td>\n",
       "    </tr>\n",
       "    <tr>\n",
       "      <th>25%</th>\n",
       "      <td>250.750000</td>\n",
       "      <td>2010.000000</td>\n",
       "      <td>100.000000</td>\n",
       "      <td>6.200000</td>\n",
       "      <td>3.630900e+04</td>\n",
       "      <td>17.522500</td>\n",
       "      <td>47.000000</td>\n",
       "    </tr>\n",
       "    <tr>\n",
       "      <th>50%</th>\n",
       "      <td>500.500000</td>\n",
       "      <td>2014.000000</td>\n",
       "      <td>111.000000</td>\n",
       "      <td>6.800000</td>\n",
       "      <td>1.107990e+05</td>\n",
       "      <td>60.480000</td>\n",
       "      <td>60.000000</td>\n",
       "    </tr>\n",
       "    <tr>\n",
       "      <th>75%</th>\n",
       "      <td>750.250000</td>\n",
       "      <td>2016.000000</td>\n",
       "      <td>123.000000</td>\n",
       "      <td>7.400000</td>\n",
       "      <td>2.399098e+05</td>\n",
       "      <td>99.177500</td>\n",
       "      <td>72.000000</td>\n",
       "    </tr>\n",
       "    <tr>\n",
       "      <th>max</th>\n",
       "      <td>1000.000000</td>\n",
       "      <td>2016.000000</td>\n",
       "      <td>191.000000</td>\n",
       "      <td>9.000000</td>\n",
       "      <td>1.791916e+06</td>\n",
       "      <td>936.630000</td>\n",
       "      <td>100.000000</td>\n",
       "    </tr>\n",
       "  </tbody>\n",
       "</table>\n",
       "</div>"
      ],
      "text/plain": [
       "              Rank         Year  Runtime (Minutes)       Rating         Votes  \\\n",
       "count  1000.000000  1000.000000        1000.000000  1000.000000  1.000000e+03   \n",
       "mean    500.500000  2012.783000         113.172000     6.723200  1.698083e+05   \n",
       "std     288.819436     3.205962          18.810908     0.945429  1.887626e+05   \n",
       "min       1.000000  2006.000000          66.000000     1.900000  6.100000e+01   \n",
       "25%     250.750000  2010.000000         100.000000     6.200000  3.630900e+04   \n",
       "50%     500.500000  2014.000000         111.000000     6.800000  1.107990e+05   \n",
       "75%     750.250000  2016.000000         123.000000     7.400000  2.399098e+05   \n",
       "max    1000.000000  2016.000000         191.000000     9.000000  1.791916e+06   \n",
       "\n",
       "       Revenue (Millions)    Metascore  \n",
       "count         1000.000000  1000.000000  \n",
       "mean            83.051619    59.244650  \n",
       "std             96.376270    16.865557  \n",
       "min              0.010000    11.000000  \n",
       "25%             17.522500    47.000000  \n",
       "50%             60.480000    60.000000  \n",
       "75%             99.177500    72.000000  \n",
       "max            936.630000   100.000000  "
      ]
     },
     "execution_count": 21,
     "metadata": {},
     "output_type": "execute_result"
    }
   ],
   "source": [
    "imdb.describe()"
   ]
  },
  {
   "cell_type": "code",
   "execution_count": 22,
   "metadata": {},
   "outputs": [
    {
     "name": "stdout",
     "output_type": "stream",
     "text": [
      "Most Movies are released in : 2016 = 297\n"
     ]
    },
    {
     "data": {
      "image/png": "[encoded data removed]",
      "text/plain": [
       "<Figure size 864x720 with 1 Axes>"
      ]
     },
     "metadata": {
      "needs_background": "light"
     },
     "output_type": "display_data"
    }
   ],
   "source": [
    "year=Counter(imdb['Year'])\n",
    "print('Most Movies are released in :',year.most_common(1)[0][0],'=',year.most_common(1)[0][1])\n",
    "cnt=imdb['Year'].value_counts()\n",
    "plt.figure(figsize=(12,10))\n",
    "plt.title('Movies released in particular year')\n",
    "Year=sb.countplot(y=imdb['Year'],data=imdb['Year'],order=cnt.index)\n",
    "plt.show()"
   ]
  },
  {
   "cell_type": "code",
   "execution_count": 23,
   "metadata": {},
   "outputs": [
    {
     "name": "stdout",
     "output_type": "stream",
     "text": [
      "Audience choice(voting stats) for best movie:\n",
      "Interstellar : 1047747\n",
      "The Dark Knight : 1791916\n",
      "The Avengers : 1045588\n",
      "Inglourious Basterds : 959065\n",
      "Inception : 1583625\n",
      "Avatar : 935408\n",
      "The Departed : 937414\n",
      "The Dark Knight Rises : 1222645\n",
      "Django Unchained : 1039115\n"
     ]
    },
    {
     "data": {
      "image/png": "[encoded data removed]",
      "text/plain": [
       "<Figure size 1080x576 with 1 Axes>"
      ]
     },
     "metadata": {
      "needs_background": "light"
     },
     "output_type": "display_data"
    }
   ],
   "source": [
    "from scipy import stats\n",
    "import numpy as np\n",
    "z = np.abs(stats.zscore(imdb['Votes']))\n",
    "threshold=3\n",
    "sf=[]\n",
    "for index in range(len(z)):\n",
    "    if(z[index]>4):\n",
    "        sf.append(index)\n",
    "print(\"Audience choice(voting stats) for best movie:\")\n",
    "for i in sf:\n",
    "    print(imdb['Title'][i],\":\",imdb['Votes'][i])\n",
    "    \n",
    "#random samplng\n",
    "plt.figure(figsize=(15,8))\n",
    "imdb['Votes'].sample(50).plot.bar()\n",
    "plt.xlabel('Movies')\n",
    "plt.ylabel('Number of Votes')\n",
    "plt.title('Voting Stats')\n",
    "plt.show()\n",
    "\n"
   ]
  },
  {
   "cell_type": "code",
   "execution_count": 24,
   "metadata": {},
   "outputs": [],
   "source": [
    "import itertools\n",
    "unique_genres = imdb['Genre'].unique()\n",
    "individual_genres = []\n",
    "for genre in unique_genres:\n",
    "    individual_genres.append(genre.split(','))\n",
    "\n",
    "individual_genres = list(itertools.chain.from_iterable(individual_genres))\n",
    "individual_genres = set(individual_genres)\n",
    "individualgenres = []\n",
    "for i in individual_genres:\n",
    "    individualgenres.append(i)"
   ]
  },
  {
   "cell_type": "code",
   "execution_count": 25,
   "metadata": {},
   "outputs": [
    {
     "name": "stdout",
     "output_type": "stream",
     "text": [
      "Number of movies in each genre:\n",
      "Music : 21\n",
      "Musical : 5\n",
      "Family : 51\n",
      "Sport : 18\n",
      "Biography : 81\n",
      "Drama : 513\n",
      "Action : 303\n",
      "Western : 7\n",
      "Thriller : 195\n",
      "War : 13\n",
      "Comedy : 279\n",
      "Romance : 141\n",
      "Horror : 119\n",
      "Fantasy : 101\n",
      "Sci-Fi : 120\n",
      "Adventure : 259\n",
      "History : 29\n",
      "Animation : 49\n",
      "Mystery : 106\n",
      "Crime : 150\n"
     ]
    }
   ],
   "source": [
    "print('Number of movies in each genre:')\n",
    "count=[]\n",
    "others=[]\n",
    "res1=[]\n",
    "for genre in individualgenres:\n",
    "    current_genre = imdb['Genre'].str.contains(genre).fillna(False)\n",
    "    a=len(imdb[current_genre])\n",
    "    print(genre,':' ,len(imdb[current_genre]))\n",
    "    if(a>50):\n",
    "        count.append(a)\n",
    "        res1.append(genre)\n",
    "    else:\n",
    "        others.append(a)\n",
    "   \n",
    " \n",
    "    \n",
    "\n",
    "    "
   ]
  },
  {
   "cell_type": "code",
   "execution_count": 26,
   "metadata": {},
   "outputs": [
    {
     "data": {
      "image/png": "[encoded data removed]",
      "text/plain": [
       "<Figure size 432x288 with 1 Axes>"
      ]
     },
     "metadata": {
      "needs_background": "light"
     },
     "output_type": "display_data"
    },
    {
     "data": {
      "image/png": "[encoded data removed]",
      "text/plain": [
       "<Figure size 432x288 with 1 Axes>"
      ]
     },
     "metadata": {
      "needs_background": "light"
     },
     "output_type": "display_data"
    },
    {
     "data": {
      "image/png": "[encoded data removed]",
      "text/plain": [
       "<Figure size 432x288 with 1 Axes>"
      ]
     },
     "metadata": {
      "needs_background": "light"
     },
     "output_type": "display_data"
    },
    {
     "data": {
      "image/png": "[encoded data removed]",
      "text/plain": [
       "<Figure size 432x288 with 1 Axes>"
      ]
     },
     "metadata": {
      "needs_background": "light"
     },
     "output_type": "display_data"
    },
    {
     "data": {
      "image/png": "[encoded data removed]",
      "text/plain": [
       "<Figure size 432x288 with 1 Axes>"
      ]
     },
     "metadata": {
      "needs_background": "light"
     },
     "output_type": "display_data"
    },
    {
     "data": {
      "image/png": "[encoded data removed]",
      "text/plain": [
       "<Figure size 432x288 with 1 Axes>"
      ]
     },
     "metadata": {
      "needs_background": "light"
     },
     "output_type": "display_data"
    },
    {
     "data": {
      "image/png": "[encoded data removed]",
      "text/plain": [
       "<Figure size 432x288 with 1 Axes>"
      ]
     },
     "metadata": {
      "needs_background": "light"
     },
     "output_type": "display_data"
    },
    {
     "data": {
      "image/png": "[encoded data removed]",
      "text/plain": [
       "<Figure size 432x288 with 1 Axes>"
      ]
     },
     "metadata": {
      "needs_background": "light"
     },
     "output_type": "display_data"
    },
    {
     "data": {
      "image/png": "[encoded data removed]",
      "text/plain": [
       "<Figure size 432x288 with 1 Axes>"
      ]
     },
     "metadata": {
      "needs_background": "light"
     },
     "output_type": "display_data"
    },
    {
     "data": {
      "image/png": "[encoded data removed]",
      "text/plain": [
       "<Figure size 432x288 with 1 Axes>"
      ]
     },
     "metadata": {
      "needs_background": "light"
     },
     "output_type": "display_data"
    },
    {
     "data": {
      "image/png": "[encoded data removed]",
      "text/plain": [
       "<Figure size 432x288 with 1 Axes>"
      ]
     },
     "metadata": {
      "needs_background": "light"
     },
     "output_type": "display_data"
    },
    {
     "data": {
      "image/png": "[encoded data removed]",
      "text/plain": [
       "<Figure size 432x288 with 1 Axes>"
      ]
     },
     "metadata": {
      "needs_background": "light"
     },
     "output_type": "display_data"
    },
    {
     "data": {
      "image/png": "[encoded data removed]",
      "text/plain": [
       "<Figure size 432x288 with 1 Axes>"
      ]
     },
     "metadata": {
      "needs_background": "light"
     },
     "output_type": "display_data"
    },
    {
     "data": {
      "image/png": "[encoded data removed]",
      "text/plain": [
       "<Figure size 432x288 with 1 Axes>"
      ]
     },
     "metadata": {
      "needs_background": "light"
     },
     "output_type": "display_data"
    },
    {
     "data": {
      "image/png": "[encoded data removed]",
      "text/plain": [
       "<Figure size 432x288 with 1 Axes>"
      ]
     },
     "metadata": {
      "needs_background": "light"
     },
     "output_type": "display_data"
    },
    {
     "data": {
      "image/png": "[encoded data removed]",
      "text/plain": [
       "<Figure size 432x288 with 1 Axes>"
      ]
     },
     "metadata": {
      "needs_background": "light"
     },
     "output_type": "display_data"
    },
    {
     "data": {
      "image/png": "[encoded data removed]",
      "text/plain": [
       "<Figure size 432x288 with 1 Axes>"
      ]
     },
     "metadata": {
      "needs_background": "light"
     },
     "output_type": "display_data"
    },
    {
     "data": {
      "image/png": "[encoded data removed]",
      "text/plain": [
       "<Figure size 432x288 with 1 Axes>"
      ]
     },
     "metadata": {
      "needs_background": "light"
     },
     "output_type": "display_data"
    },
    {
     "data": {
      "image/png": "[encoded data removed]",
      "text/plain": [
       "<Figure size 432x288 with 1 Axes>"
      ]
     },
     "metadata": {
      "needs_background": "light"
     },
     "output_type": "display_data"
    },
    {
     "data": {
      "image/png": "[encoded data removed]",
      "text/plain": [
       "<Figure size 432x288 with 1 Axes>"
      ]
     },
     "metadata": {
      "needs_background": "light"
     },
     "output_type": "display_data"
    }
   ],
   "source": [
    "for genre in individual_genres:\n",
    "    plt.figure()\n",
    "    plt.xlabel('Year')\n",
    "    plt.ylabel('Number of Movies')\n",
    "    plt.title(str(genre))\n",
    "    imdb[current_genre].Year.value_counts().sort_index().plot(kind='bar')"
   ]
  },
  {
   "cell_type": "code",
   "execution_count": 27,
   "metadata": {},
   "outputs": [
    {
     "data": {
      "image/png": "[encoded data removed]",
      "text/plain": [
       "<Figure size 576x576 with 1 Axes>"
      ]
     },
     "metadata": {},
     "output_type": "display_data"
    }
   ],
   "source": [
    "#Pie Chart of Genres\n",
    "plt.figure(figsize=(8,8))\n",
    "plt.pie(count, labels=res1, autopct='%1.1f%%', shadow=True ,startangle=180)\n",
    "plt.show()"
   ]
  },
  {
   "cell_type": "code",
   "execution_count": 28,
   "metadata": {},
   "outputs": [
    {
     "name": "stdout",
     "output_type": "stream",
     "text": [
      "Popular Directors: 2016 = 297\n"
     ]
    },
    {
     "data": {
      "image/png": "[encoded data removed]",
      "text/plain": [
       "<Figure size 864x1080 with 1 Axes>"
      ]
     },
     "metadata": {
      "needs_background": "light"
     },
     "output_type": "display_data"
    }
   ],
   "source": [
    "director=Counter(imdb['Director'])\n",
    "print('Popular Directors:',year.most_common(1)[0][0],'=',year.most_common(1)[0][1])\n",
    "plt.figure(figsize=(12,15))\n",
    "lists = director.items()\n",
    "x, y = zip(*lists) \n",
    "plt.title('Most Common Directors')\n",
    "plt.barh(x[:30], y[:30],color='purple')\n",
    "plt.show()"
   ]
  },
  {
   "cell_type": "code",
   "execution_count": 29,
   "metadata": {},
   "outputs": [
    {
     "data": {
      "image/png": "[encoded data removed]",
      "text/plain": [
       "<Figure size 576x432 with 1 Axes>"
      ]
     },
     "metadata": {
      "needs_background": "light"
     },
     "output_type": "display_data"
    },
    {
     "name": "stdout",
     "output_type": "stream",
     "text": [
      "Pearson coefficient is 0.2470188056724427\n",
      "P-value 2.2856043154854077e-15\n"
     ]
    }
   ],
   "source": [
    "plt.figure(figsize=(8,6))\n",
    "plt.scatter(imdb['Runtime (Minutes)'],imdb['Revenue (Millions)'],color='red')\n",
    "plt.title(\"Scatter Plot b/w Revenue and Runtime\")\n",
    "plt.ylabel('Revenue')\n",
    "plt.xlabel('Runtime')\n",
    "plt.show()\n",
    "r,p=stats.pearsonr(imdb['Revenue (Millions)'],imdb['Runtime (Minutes)'])\n",
    "print('Pearson coefficient is',r)\n",
    "print('P-value',float(p))"
   ]
  },
  {
   "cell_type": "code",
   "execution_count": null,
   "metadata": {},
   "outputs": [],
   "source": []
  },
  {
   "cell_type": "code",
   "execution_count": 30,
   "metadata": {},
   "outputs": [
    {
     "data": {
      "image/png": "[encoded data removed]",
      "text/plain": [
       "<Figure size 576x432 with 1 Axes>"
      ]
     },
     "metadata": {
      "needs_background": "light"
     },
     "output_type": "display_data"
    },
    {
     "name": "stdout",
     "output_type": "stream",
     "text": [
      "Pearson coefficient is 0.6073087538591406\n",
      "P-value 7.820434978740454e-102\n"
     ]
    }
   ],
   "source": [
    "plt.figure(figsize=(8,6))\n",
    "plt.scatter(imdb['Votes'],imdb['Revenue (Millions)'],color='red')\n",
    "plt.title(\"Scatter Plot b/w Revenue and Votes\")\n",
    "plt.ylabel('Revenue')\n",
    "plt.xlabel('Votes')\n",
    "plt.show()\n",
    "r,p=stats.pearsonr(imdb['Revenue (Millions)'],imdb['Votes'])\n",
    "print('Pearson coefficient is',r)\n",
    "print('P-value',p)"
   ]
  },
  {
   "cell_type": "code",
   "execution_count": null,
   "metadata": {},
   "outputs": [],
   "source": []
  },
  {
   "cell_type": "code",
   "execution_count": 31,
   "metadata": {},
   "outputs": [
    {
     "name": "stdout",
     "output_type": "stream",
     "text": [
      "Pearson coefficient = 0.6395355514125726\n"
     ]
    },
    {
     "data": {
      "image/png": "[encoded data removed]",
      "text/plain": [
       "<Figure size 432x288 with 1 Axes>"
      ]
     },
     "metadata": {
      "needs_background": "light"
     },
     "output_type": "display_data"
    }
   ],
   "source": [
    "#Simple Linear Regression between Metascore and Rating\n",
    "X=imdb.iloc[:,8:9].values\n",
    "y=imdb['Metascore']\n",
    "from sklearn.model_selection import train_test_split\n",
    "X_train, X_test, y_train, y_test = train_test_split(X, y, test_size = 1/3, random_state = 0)\n",
    "from sklearn.linear_model import LinearRegression\n",
    "regressor = LinearRegression()\n",
    "regressor.fit(X_train, y_train)\n",
    "y_pred = regressor.predict(X_test)\n",
    "r,p=stats.pearsonr(imdb['Metascore'],imdb['Rating'])\n",
    "print('Pearson coefficient =',r)\n",
    "# Visualising the Training set results\n",
    "plt.scatter(X_train[:,0],y_train,color='red')\n",
    "plt.plot(X_train, regressor.predict(X_train), color = 'blue')\n",
    "plt.title('Relation b/w Rating and Metascore(Training set)')\n",
    "plt.xlabel('Rating')\n",
    "plt.ylabel('Metascore')\n",
    "plt.show()"
   ]
  },
  {
   "cell_type": "code",
   "execution_count": 32,
   "metadata": {},
   "outputs": [
    {
     "data": {
      "image/png": "[encoded data removed]",
      "text/plain": [
       "<Figure size 432x288 with 1 Axes>"
      ]
     },
     "metadata": {
      "needs_background": "light"
     },
     "output_type": "display_data"
    }
   ],
   "source": [
    "# Visualising the Test set results\n",
    "plt.scatter(X_test[:,0], y_test, color = 'blue')\n",
    "plt.plot(X_test,y_pred, color = 'red')\n",
    "plt.title('Relation b/w Rating and Metascore(Test set)')\n",
    "plt.xlabel('Rating')\n",
    "plt.ylabel('Metascore')\n",
    "plt.show()"
   ]
  },
  {
   "cell_type": "code",
   "execution_count": 33,
   "metadata": {},
   "outputs": [
    {
     "data": {
      "text/plain": [
       "<matplotlib.axes._subplots.AxesSubplot at 0x22f127a4630>"
      ]
     },
     "execution_count": 33,
     "metadata": {},
     "output_type": "execute_result"
    },
    {
     "data": {
      "image/png": "[encoded data removed]",
      "text/plain": [
       "<Figure size 432x288 with 2 Axes>"
      ]
     },
     "metadata": {
      "needs_background": "light"
     },
     "output_type": "display_data"
    }
   ],
   "source": [
    "#LETS START REGRESSION ANALYSIS FOR REVENUE PREDICTION NOW\n",
    "sb.heatmap(imdb.corr(),annot=True)\n",
    "        "
   ]
  },
  {
   "cell_type": "code",
   "execution_count": 34,
   "metadata": {},
   "outputs": [
    {
     "data": {
      "text/plain": [
       "LinearRegression(copy_X=True, fit_intercept=True, n_jobs=None, normalize=False)"
      ]
     },
     "execution_count": 34,
     "metadata": {},
     "output_type": "execute_result"
    }
   ],
   "source": [
    "#SIMPLE LINEAR REGRESSION BETWEEN REVENUE AND VOTES\n",
    "X=imdb[['Votes']]\n",
    "y=imdb['Revenue (Millions)']\n",
    "from sklearn.model_selection import train_test_split\n",
    "X_train,X_test,y_train,y_test=train_test_split(X,y,test_size=0.4,random_state=46)\n",
    "from sklearn.linear_model import LinearRegression\n",
    "lm=LinearRegression()\n",
    "lm.fit(X_train,y_train)\n"
   ]
  },
  {
   "cell_type": "code",
   "execution_count": 35,
   "metadata": {},
   "outputs": [
    {
     "name": "stdout",
     "output_type": "stream",
     "text": [
      "26.65001462190503\n"
     ]
    }
   ],
   "source": [
    "print(lm.intercept_)"
   ]
  },
  {
   "cell_type": "code",
   "execution_count": 36,
   "metadata": {},
   "outputs": [
    {
     "data": {
      "text/plain": [
       "array([0.00033738])"
      ]
     },
     "execution_count": 36,
     "metadata": {},
     "output_type": "execute_result"
    }
   ],
   "source": [
    "lm.coef_"
   ]
  },
  {
   "cell_type": "code",
   "execution_count": 37,
   "metadata": {},
   "outputs": [
    {
     "data": {
      "image/png": "[encoded data removed]",
      "text/plain": [
       "<Figure size 432x288 with 1 Axes>"
      ]
     },
     "metadata": {
      "needs_background": "light"
     },
     "output_type": "display_data"
    }
   ],
   "source": [
    "# Visualising the Training set results\n",
    "plt.scatter(X_train,y_train,color='red')\n",
    "plt.plot(X_train, lm.predict(X_train), color = 'blue')\n",
    "plt.title('Relation b/w Revenue and Votes(Training set)')\n",
    "plt.xlabel('Votes')\n",
    "plt.ylabel('Revenue')\n",
    "plt.show()"
   ]
  },
  {
   "cell_type": "code",
   "execution_count": 38,
   "metadata": {},
   "outputs": [
    {
     "data": {
      "text/plain": [
       "Text(0, 0.5, 'Actual value of Revenue')"
      ]
     },
     "execution_count": 38,
     "metadata": {},
     "output_type": "execute_result"
    },
    {
     "data": {
      "image/png": "[encoded data removed]",
      "text/plain": [
       "<Figure size 432x288 with 1 Axes>"
      ]
     },
     "metadata": {
      "needs_background": "light"
     },
     "output_type": "display_data"
    }
   ],
   "source": [
    "predictions=lm.predict(X_test)\n",
    "plt.scatter(predictions,y_test)\n",
    "plt.xlabel(\"Predicted value of Revenue\")\n",
    "plt.ylabel(\"Actual value of Revenue\")"
   ]
  },
  {
   "cell_type": "code",
   "execution_count": 39,
   "metadata": {},
   "outputs": [
    {
     "data": {
      "image/png": "[encoded data removed]",
      "text/plain": [
       "<Figure size 432x288 with 1 Axes>"
      ]
     },
     "metadata": {
      "needs_background": "light"
     },
     "output_type": "display_data"
    }
   ],
   "source": [
    "# Visualising the Test set results\n",
    "plt.scatter(X_test, y_test, color = 'blue')\n",
    "plt.plot(X_test,predictions, color = 'red')\n",
    "plt.title('Relation b/w Revenue and Votes(Test set)')\n",
    "plt.xlabel('Votes')\n",
    "plt.ylabel('Revenue')\n",
    "plt.show()"
   ]
  },
  {
   "cell_type": "code",
   "execution_count": 40,
   "metadata": {},
   "outputs": [
    {
     "data": {
      "text/plain": [
       "<matplotlib.axes._subplots.AxesSubplot at 0x22f1259f9e8>"
      ]
     },
     "execution_count": 40,
     "metadata": {},
     "output_type": "execute_result"
    },
    {
     "data": {
      "image/png": "[encoded data removed]",
      "text/plain": [
       "<Figure size 432x288 with 1 Axes>"
      ]
     },
     "metadata": {
      "needs_background": "light"
     },
     "output_type": "display_data"
    }
   ],
   "source": [
    "sb.distplot(y_test-predictions)\n",
    "#Histogram of Residuals\n",
    "#Normal Distribution"
   ]
  },
  {
   "cell_type": "code",
   "execution_count": 41,
   "metadata": {},
   "outputs": [],
   "source": [
    "from sklearn import metrics"
   ]
  },
  {
   "cell_type": "code",
   "execution_count": 42,
   "metadata": {},
   "outputs": [
    {
     "data": {
      "text/plain": [
       "53.492743334545565"
      ]
     },
     "execution_count": 42,
     "metadata": {},
     "output_type": "execute_result"
    }
   ],
   "source": [
    "metrics.mean_absolute_error(y_test,predictions)\n",
    "#MAE"
   ]
  },
  {
   "cell_type": "code",
   "execution_count": 43,
   "metadata": {},
   "outputs": [
    {
     "name": "stdout",
     "output_type": "stream",
     "text": [
      "R-Square 0.29498489203654177\n"
     ]
    }
   ],
   "source": [
    "print('R-Square',metrics.explained_variance_score(y_test,predictions))"
   ]
  },
  {
   "cell_type": "code",
   "execution_count": null,
   "metadata": {},
   "outputs": [],
   "source": []
  },
  {
   "cell_type": "code",
   "execution_count": 44,
   "metadata": {},
   "outputs": [
    {
     "data": {
      "text/plain": [
       "LinearRegression(copy_X=True, fit_intercept=True, n_jobs=None, normalize=False)"
      ]
     },
     "execution_count": 44,
     "metadata": {},
     "output_type": "execute_result"
    }
   ],
   "source": [
    "#Lets try to build a multiple linear regresion model with Revenue as target variable and Votes and Runtime as independent\n",
    "#variables\n",
    "from sklearn.model_selection import train_test_split\n",
    "from sklearn.linear_model import LinearRegression\n",
    "X=imdb[['Votes','Runtime (Minutes)']]\n",
    "y=imdb['Revenue (Millions)']\n",
    "X_train,X_test,y_train,y_test=train_test_split(X,y,test_size=0.4,random_state=52)\n",
    "lm=LinearRegression()\n",
    "lm.fit(X_train,y_train)\n"
   ]
  },
  {
   "cell_type": "code",
   "execution_count": 45,
   "metadata": {},
   "outputs": [
    {
     "name": "stdout",
     "output_type": "stream",
     "text": [
      "31.032553620879796\n"
     ]
    }
   ],
   "source": [
    "print(lm.intercept_)"
   ]
  },
  {
   "cell_type": "code",
   "execution_count": 46,
   "metadata": {},
   "outputs": [],
   "source": [
    "cdf=pd.DataFrame(lm.coef_,X.columns,columns=['Coefficients'])"
   ]
  },
  {
   "cell_type": "code",
   "execution_count": 47,
   "metadata": {},
   "outputs": [
    {
     "data": {
      "text/html": [
       "<div>\n",
       "<style scoped>\n",
       "    .dataframe tbody tr th:only-of-type {\n",
       "        vertical-align: middle;\n",
       "    }\n",
       "\n",
       "    .dataframe tbody tr th {\n",
       "        vertical-align: top;\n",
       "    }\n",
       "\n",
       "    .dataframe thead th {\n",
       "        text-align: right;\n",
       "    }\n",
       "</style>\n",
       "<table border=\"1\" class=\"dataframe\">\n",
       "  <thead>\n",
       "    <tr style=\"text-align: right;\">\n",
       "      <th></th>\n",
       "      <th>Coefficients</th>\n",
       "    </tr>\n",
       "  </thead>\n",
       "  <tbody>\n",
       "    <tr>\n",
       "      <th>Votes</th>\n",
       "      <td>0.000287</td>\n",
       "    </tr>\n",
       "    <tr>\n",
       "      <th>Runtime (Minutes)</th>\n",
       "      <td>0.016608</td>\n",
       "    </tr>\n",
       "  </tbody>\n",
       "</table>\n",
       "</div>"
      ],
      "text/plain": [
       "                   Coefficients\n",
       "Votes                  0.000287\n",
       "Runtime (Minutes)      0.016608"
      ]
     },
     "execution_count": 47,
     "metadata": {},
     "output_type": "execute_result"
    }
   ],
   "source": [
    "cdf"
   ]
  },
  {
   "cell_type": "code",
   "execution_count": 48,
   "metadata": {},
   "outputs": [
    {
     "data": {
      "text/plain": [
       "Text(0, 0.5, 'Actual value of Revenue')"
      ]
     },
     "execution_count": 48,
     "metadata": {},
     "output_type": "execute_result"
    },
    {
     "data": {
      "image/png": "[encoded data removed]",
      "text/plain": [
       "<Figure size 432x288 with 1 Axes>"
      ]
     },
     "metadata": {
      "needs_background": "light"
     },
     "output_type": "display_data"
    }
   ],
   "source": [
    "predictions=lm.predict(X_test)\n",
    "plt.scatter(predictions,y_test)\n",
    "plt.xlabel(\"Predicted value of Revenue\")\n",
    "plt.ylabel(\"Actual value of Revenue\")"
   ]
  },
  {
   "cell_type": "code",
   "execution_count": 49,
   "metadata": {},
   "outputs": [
    {
     "data": {
      "text/plain": [
       "<matplotlib.axes._subplots.AxesSubplot at 0x22f12d37da0>"
      ]
     },
     "execution_count": 49,
     "metadata": {},
     "output_type": "execute_result"
    },
    {
     "data": {
      "image/png": "[encoded data removed]",
      "text/plain": [
       "<Figure size 432x288 with 1 Axes>"
      ]
     },
     "metadata": {
      "needs_background": "light"
     },
     "output_type": "display_data"
    }
   ],
   "source": [
    "sb.distplot(y_test-predictions)\n",
    "#Histogram of Residuals\n",
    "#Normal Distribution"
   ]
  },
  {
   "cell_type": "code",
   "execution_count": 50,
   "metadata": {},
   "outputs": [
    {
     "data": {
      "text/plain": [
       "52.758629442463906"
      ]
     },
     "execution_count": 50,
     "metadata": {},
     "output_type": "execute_result"
    }
   ],
   "source": [
    "from sklearn import metrics\n",
    "metrics.mean_absolute_error(y_test,predictions)\n",
    "#MAE"
   ]
  },
  {
   "cell_type": "code",
   "execution_count": 51,
   "metadata": {},
   "outputs": [
    {
     "data": {
      "text/plain": [
       "0.3829742841374695"
      ]
     },
     "execution_count": 51,
     "metadata": {},
     "output_type": "execute_result"
    }
   ],
   "source": [
    "#R-Square\n",
    "metrics.explained_variance_score(y_test,predictions)"
   ]
  },
  {
   "cell_type": "code",
   "execution_count": null,
   "metadata": {},
   "outputs": [],
   "source": []
  },
  {
   "cell_type": "code",
   "execution_count": 52,
   "metadata": {},
   "outputs": [],
   "source": [
    "#We can see that the MAE of this model is less than the simple linear regression model \n",
    "#Hence, we accept this model"
   ]
  },
  {
   "cell_type": "code",
   "execution_count": 53,
   "metadata": {},
   "outputs": [
    {
     "data": {
      "text/plain": [
       "LinearRegression(copy_X=True, fit_intercept=True, n_jobs=None, normalize=False)"
      ]
     },
     "execution_count": 53,
     "metadata": {},
     "output_type": "execute_result"
    }
   ],
   "source": [
    "#Multiple linear Regression considering all numeric features of the dataset\n",
    "X=imdb[['Votes','Runtime (Minutes)','Metascore']]\n",
    "y=imdb['Revenue (Millions)']\n",
    "X_train,X_test,y_train,y_test=train_test_split(X,y,test_size=0.4,random_state=56)\n",
    "lm=LinearRegression()\n",
    "lm.fit(X_train,y_train)\n"
   ]
  },
  {
   "cell_type": "code",
   "execution_count": 54,
   "metadata": {},
   "outputs": [
    {
     "name": "stdout",
     "output_type": "stream",
     "text": [
      "46.22241187877492\n"
     ]
    }
   ],
   "source": [
    "print(lm.intercept_)"
   ]
  },
  {
   "cell_type": "code",
   "execution_count": 55,
   "metadata": {},
   "outputs": [
    {
     "data": {
      "text/html": [
       "<div>\n",
       "<style scoped>\n",
       "    .dataframe tbody tr th:only-of-type {\n",
       "        vertical-align: middle;\n",
       "    }\n",
       "\n",
       "    .dataframe tbody tr th {\n",
       "        vertical-align: top;\n",
       "    }\n",
       "\n",
       "    .dataframe thead th {\n",
       "        text-align: right;\n",
       "    }\n",
       "</style>\n",
       "<table border=\"1\" class=\"dataframe\">\n",
       "  <thead>\n",
       "    <tr style=\"text-align: right;\">\n",
       "      <th></th>\n",
       "      <th>Coefficients</th>\n",
       "    </tr>\n",
       "  </thead>\n",
       "  <tbody>\n",
       "    <tr>\n",
       "      <th>Votes</th>\n",
       "      <td>0.000313</td>\n",
       "    </tr>\n",
       "    <tr>\n",
       "      <th>Runtime (Minutes)</th>\n",
       "      <td>0.100639</td>\n",
       "    </tr>\n",
       "    <tr>\n",
       "      <th>Metascore</th>\n",
       "      <td>-0.404273</td>\n",
       "    </tr>\n",
       "  </tbody>\n",
       "</table>\n",
       "</div>"
      ],
      "text/plain": [
       "                   Coefficients\n",
       "Votes                  0.000313\n",
       "Runtime (Minutes)      0.100639\n",
       "Metascore             -0.404273"
      ]
     },
     "execution_count": 55,
     "metadata": {},
     "output_type": "execute_result"
    }
   ],
   "source": [
    "cdf=pd.DataFrame(lm.coef_,X.columns,columns=['Coefficients'])\n",
    "cdf"
   ]
  },
  {
   "cell_type": "code",
   "execution_count": 56,
   "metadata": {},
   "outputs": [
    {
     "data": {
      "text/plain": [
       "Text(0, 0.5, 'Actual value of Revenue')"
      ]
     },
     "execution_count": 56,
     "metadata": {},
     "output_type": "execute_result"
    },
    {
     "data": {
      "image/png": "[encoded data removed]",
      "text/plain": [
       "<Figure size 432x288 with 1 Axes>"
      ]
     },
     "metadata": {
      "needs_background": "light"
     },
     "output_type": "display_data"
    }
   ],
   "source": [
    "predictions=lm.predict(X_test)\n",
    "plt.scatter(predictions,y_test)\n",
    "plt.xlabel(\"Predicted value of Revenue\")\n",
    "plt.ylabel(\"Actual value of Revenue\")"
   ]
  },
  {
   "cell_type": "code",
   "execution_count": 57,
   "metadata": {},
   "outputs": [
    {
     "data": {
      "text/plain": [
       "<matplotlib.axes._subplots.AxesSubplot at 0x22f12d32518>"
      ]
     },
     "execution_count": 57,
     "metadata": {},
     "output_type": "execute_result"
    },
    {
     "data": {
      "image/png": "[encoded data removed]",
      "text/plain": [
       "<Figure size 432x288 with 1 Axes>"
      ]
     },
     "metadata": {
      "needs_background": "light"
     },
     "output_type": "display_data"
    }
   ],
   "source": [
    "sb.distplot(y_test-predictions)\n",
    "#Histogram of Residuals\n",
    "#Normal Distribution"
   ]
  },
  {
   "cell_type": "code",
   "execution_count": 58,
   "metadata": {},
   "outputs": [
    {
     "data": {
      "text/plain": [
       "50.05516154969411"
      ]
     },
     "execution_count": 58,
     "metadata": {},
     "output_type": "execute_result"
    }
   ],
   "source": [
    "metrics.mean_absolute_error(y_test,predictions)\n",
    "#MAE"
   ]
  },
  {
   "cell_type": "code",
   "execution_count": 59,
   "metadata": {},
   "outputs": [
    {
     "data": {
      "text/plain": [
       "0.4400872099191342"
      ]
     },
     "execution_count": 59,
     "metadata": {},
     "output_type": "execute_result"
    }
   ],
   "source": [
    "#R-Square\n",
    "metrics.explained_variance_score(y_test,predictions)"
   ]
  },
  {
   "cell_type": "code",
   "execution_count": 60,
   "metadata": {},
   "outputs": [
    {
     "data": {
      "text/plain": [
       "6.723200000000003"
      ]
     },
     "execution_count": 60,
     "metadata": {},
     "output_type": "execute_result"
    }
   ],
   "source": [
    "#DEMOGRAPHIC FILTERING\n",
    "mean_ratings=imdb['Rating'].mean()\n",
    "mean_ratings\n"
   ]
  },
  {
   "cell_type": "code",
   "execution_count": 61,
   "metadata": {},
   "outputs": [
    {
     "data": {
      "text/plain": [
       "239909.75"
      ]
     },
     "execution_count": 61,
     "metadata": {},
     "output_type": "execute_result"
    }
   ],
   "source": [
    "m=imdb['Votes'].quantile(0.75)\n",
    "m"
   ]
  },
  {
   "cell_type": "code",
   "execution_count": 62,
   "metadata": {},
   "outputs": [
    {
     "data": {
      "text/plain": [
       "(250, 12)"
      ]
     },
     "execution_count": 62,
     "metadata": {},
     "output_type": "execute_result"
    }
   ],
   "source": [
    "q_movies=imdb.copy().loc[imdb['Votes']>=m]\n",
    "q_movies.shape"
   ]
  },
  {
   "cell_type": "code",
   "execution_count": 63,
   "metadata": {},
   "outputs": [],
   "source": [
    "def demoratings(x,m=m,C=mean_ratings):\n",
    "    v=x['Votes']\n",
    "    R=x['Rating']\n",
    "    return(v/(v+m)*R)+(m/(m+v)*C)"
   ]
  },
  {
   "cell_type": "code",
   "execution_count": 64,
   "metadata": {},
   "outputs": [],
   "source": [
    "q_movies['newratings']=q_movies.apply(demoratings,axis=1)"
   ]
  },
  {
   "cell_type": "code",
   "execution_count": 65,
   "metadata": {},
   "outputs": [],
   "source": [
    "q_movies=q_movies.sort_values('newratings',ascending=False)"
   ]
  },
  {
   "cell_type": "code",
   "execution_count": 66,
   "metadata": {},
   "outputs": [
    {
     "data": {
      "text/html": [
       "<div>\n",
       "<style scoped>\n",
       "    .dataframe tbody tr th:only-of-type {\n",
       "        vertical-align: middle;\n",
       "    }\n",
       "\n",
       "    .dataframe tbody tr th {\n",
       "        vertical-align: top;\n",
       "    }\n",
       "\n",
       "    .dataframe thead th {\n",
       "        text-align: right;\n",
       "    }\n",
       "</style>\n",
       "<table border=\"1\" class=\"dataframe\">\n",
       "  <thead>\n",
       "    <tr style=\"text-align: right;\">\n",
       "      <th></th>\n",
       "      <th>Title</th>\n",
       "      <th>Votes</th>\n",
       "      <th>Rating</th>\n",
       "      <th>newratings</th>\n",
       "    </tr>\n",
       "  </thead>\n",
       "  <tbody>\n",
       "    <tr>\n",
       "      <th>54</th>\n",
       "      <td>The Dark Knight</td>\n",
       "      <td>1791916</td>\n",
       "      <td>9.0</td>\n",
       "      <td>8.731165</td>\n",
       "    </tr>\n",
       "    <tr>\n",
       "      <th>80</th>\n",
       "      <td>Inception</td>\n",
       "      <td>1583625</td>\n",
       "      <td>8.8</td>\n",
       "      <td>8.526770</td>\n",
       "    </tr>\n",
       "    <tr>\n",
       "      <th>36</th>\n",
       "      <td>Interstellar</td>\n",
       "      <td>1047747</td>\n",
       "      <td>8.6</td>\n",
       "      <td>8.250324</td>\n",
       "    </tr>\n",
       "    <tr>\n",
       "      <th>124</th>\n",
       "      <td>The Dark Knight Rises</td>\n",
       "      <td>1222645</td>\n",
       "      <td>8.5</td>\n",
       "      <td>8.208543</td>\n",
       "    </tr>\n",
       "    <tr>\n",
       "      <th>99</th>\n",
       "      <td>The Departed</td>\n",
       "      <td>937414</td>\n",
       "      <td>8.5</td>\n",
       "      <td>8.137932</td>\n",
       "    </tr>\n",
       "    <tr>\n",
       "      <th>64</th>\n",
       "      <td>The Prestige</td>\n",
       "      <td>913152</td>\n",
       "      <td>8.5</td>\n",
       "      <td>8.130313</td>\n",
       "    </tr>\n",
       "    <tr>\n",
       "      <th>144</th>\n",
       "      <td>Django Unchained</td>\n",
       "      <td>1039115</td>\n",
       "      <td>8.4</td>\n",
       "      <td>8.085479</td>\n",
       "    </tr>\n",
       "    <tr>\n",
       "      <th>249</th>\n",
       "      <td>The Intouchables</td>\n",
       "      <td>557965</td>\n",
       "      <td>8.6</td>\n",
       "      <td>8.035673</td>\n",
       "    </tr>\n",
       "    <tr>\n",
       "      <th>634</th>\n",
       "      <td>WALL·E</td>\n",
       "      <td>776897</td>\n",
       "      <td>8.4</td>\n",
       "      <td>8.004369</td>\n",
       "    </tr>\n",
       "    <tr>\n",
       "      <th>77</th>\n",
       "      <td>Inglourious Basterds</td>\n",
       "      <td>959065</td>\n",
       "      <td>8.3</td>\n",
       "      <td>7.984489</td>\n",
       "    </tr>\n",
       "  </tbody>\n",
       "</table>\n",
       "</div>"
      ],
      "text/plain": [
       "                     Title    Votes  Rating  newratings\n",
       "54         The Dark Knight  1791916     9.0    8.731165\n",
       "80               Inception  1583625     8.8    8.526770\n",
       "36            Interstellar  1047747     8.6    8.250324\n",
       "124  The Dark Knight Rises  1222645     8.5    8.208543\n",
       "99            The Departed   937414     8.5    8.137932\n",
       "64            The Prestige   913152     8.5    8.130313\n",
       "144       Django Unchained  1039115     8.4    8.085479\n",
       "249       The Intouchables   557965     8.6    8.035673\n",
       "634                 WALL·E   776897     8.4    8.004369\n",
       "77    Inglourious Basterds   959065     8.3    7.984489"
      ]
     },
     "execution_count": 66,
     "metadata": {},
     "output_type": "execute_result"
    }
   ],
   "source": [
    "q_movies[['Title','Votes','Rating','newratings']].head(10)\n",
    "#TOP 10 MOVIES BASED ON DEMOGRAPHIC FILTERING"
   ]
  },
  {
   "cell_type": "code",
   "execution_count": 67,
   "metadata": {},
   "outputs": [],
   "source": [
    "#CONTENT BASED RECOMMENDATION USING DESCRIPTION ATTRIBUTE"
   ]
  },
  {
   "cell_type": "code",
   "execution_count": 68,
   "metadata": {},
   "outputs": [
    {
     "data": {
      "text/plain": [
       "0    A group of intergalactic criminals are forced ...\n",
       "1    Following clues to the origin of mankind, a te...\n",
       "2    Three girls are kidnapped by a man with a diag...\n",
       "3    In a city of humanoid animals, a hustling thea...\n",
       "4    A secret government agency recruits some of th...\n",
       "5    European mercenaries searching for black powde...\n",
       "6    A jazz pianist falls for an aspiring actress i...\n",
       "7    A has-been actor best known for playing the ti...\n",
       "8    A true-life drama, centering on British explor...\n",
       "9    A spacecraft traveling to a distant colony pla...\n",
       "Name: Description, dtype: object"
      ]
     },
     "execution_count": 68,
     "metadata": {},
     "output_type": "execute_result"
    }
   ],
   "source": [
    "imdb['Description'].head(10)"
   ]
  },
  {
   "cell_type": "code",
   "execution_count": 69,
   "metadata": {},
   "outputs": [],
   "source": [
    "from sklearn.feature_extraction.text import TfidfVectorizer"
   ]
  },
  {
   "cell_type": "code",
   "execution_count": 70,
   "metadata": {},
   "outputs": [],
   "source": [
    "tfidf=TfidfVectorizer(stop_words='english')\n",
    "imdb['Description']=imdb['Description'].fillna('')"
   ]
  },
  {
   "cell_type": "code",
   "execution_count": 71,
   "metadata": {},
   "outputs": [
    {
     "data": {
      "text/plain": [
       "(1000, 5667)"
      ]
     },
     "execution_count": 71,
     "metadata": {},
     "output_type": "execute_result"
    }
   ],
   "source": [
    "desc_matrix=tfidf.fit_transform(imdb['Description'])\n",
    "desc_matrix.shape"
   ]
  },
  {
   "cell_type": "code",
   "execution_count": 72,
   "metadata": {},
   "outputs": [
    {
     "name": "stdout",
     "output_type": "stream",
     "text": [
      "  (0, 5314)\t0.3215734366412338\n",
      "  (0, 1148)\t0.3023381228609386\n",
      "  (0, 4937)\t0.3023381228609386\n",
      "  (0, 5493)\t0.2971980892080351\n",
      "  (0, 1888)\t0.3891343606726167\n",
      "  (0, 4777)\t0.2551245011753801\n",
      "  (0, 5613)\t0.2623257870529036\n",
      "  (0, 2020)\t0.24877251686207938\n",
      "  (0, 1229)\t0.33971922781539177\n",
      "  (0, 2649)\t0.33971922781539177\n",
      "  (0, 2246)\t0.21774339622092687\n",
      "  (1, 4069)\t0.2841457702551132\n",
      "  (1, 4660)\t0.24611438520757062\n",
      "  (1, 3327)\t0.3247994693213087\n",
      "  (1, 1503)\t0.3247994693213087\n",
      "  (1, 4812)\t0.37204439281792756\n",
      "  (1, 1968)\t0.20405347429299328\n",
      "  (1, 4971)\t0.22022599122103517\n",
      "  (1, 3120)\t0.3153987761756993\n",
      "  (1, 3568)\t0.37204439281792756\n",
      "  (1, 1005)\t0.30745060337197083\n",
      "  (1, 2012)\t0.29449256448245537\n",
      "  (2, 78)\t0.31258698164490356\n",
      "  (2, 3440)\t0.14225655692788117\n",
      "  (2, 2086)\t0.31258698164490356\n",
      "  :\t:\n",
      "  (997, 3503)\t0.3647509231777795\n",
      "  (997, 4677)\t0.3184321779056564\n",
      "  (997, 1284)\t0.3184321779056564\n",
      "  (997, 1458)\t0.2946733668397855\n",
      "  (997, 4821)\t0.28339339973665945\n",
      "  (997, 4292)\t0.30142341499115827\n",
      "  (997, 358)\t0.30921577370883224\n",
      "  (997, 4391)\t0.21084948735321402\n",
      "  (998, 3146)\t0.3871791664912207\n",
      "  (998, 3622)\t0.40089438927354487\n",
      "  (998, 3620)\t0.33336964028689287\n",
      "  (998, 4214)\t0.35829101603542196\n",
      "  (998, 1668)\t0.35829101603542196\n",
      "  (998, 2192)\t0.35829101603542196\n",
      "  (998, 5598)\t0.23144884822018505\n",
      "  (998, 2083)\t0.24324317481640564\n",
      "  (998, 3286)\t0.2835268887898345\n",
      "  (999, 4824)\t0.4434621365046748\n",
      "  (999, 5166)\t0.38714806453567796\n",
      "  (999, 2618)\t0.3582622346540447\n",
      "  (999, 852)\t0.3664689055203943\n",
      "  (999, 769)\t0.40086218557935976\n",
      "  (999, 642)\t0.3445481136103629\n",
      "  (999, 1885)\t0.22857119457205693\n",
      "  (999, 1968)\t0.2432236351844627\n"
     ]
    }
   ],
   "source": [
    "print(desc_matrix)"
   ]
  },
  {
   "cell_type": "code",
   "execution_count": 73,
   "metadata": {},
   "outputs": [],
   "source": [
    "from sklearn.metrics.pairwise import linear_kernel"
   ]
  },
  {
   "cell_type": "code",
   "execution_count": 74,
   "metadata": {},
   "outputs": [],
   "source": [
    "cos_sim=linear_kernel(desc_matrix,desc_matrix)"
   ]
  },
  {
   "cell_type": "code",
   "execution_count": 75,
   "metadata": {},
   "outputs": [],
   "source": [
    "indices=pd.Series(imdb.index,index=imdb['Title']).drop_duplicates()"
   ]
  },
  {
   "cell_type": "code",
   "execution_count": 76,
   "metadata": {},
   "outputs": [],
   "source": [
    "def description_recommendation(title,cos_sim=cos_sim):\n",
    "    indx=indices[title]\n",
    "    sim_scores=list(enumerate(cos_sim[indx]))\n",
    "    sim_scores=sorted(sim_scores,key=lambda x:x[1],reverse=True)\n",
    "    sim_scores=sim_scores[1:16]\n",
    "    film_index=[i[0] for i in sim_scores]\n",
    "    return imdb['Title'].iloc[film_index]"
   ]
  },
  {
   "cell_type": "code",
   "execution_count": 77,
   "metadata": {},
   "outputs": [
    {
     "data": {
      "text/plain": [
       "827                        The Warriors Gate\n",
       "343                            Pete's Dragon\n",
       "772                 How to Train Your Dragon\n",
       "0                    Guardians of the Galaxy\n",
       "408    The Hunger Games: Mockingjay - Part 2\n",
       "758                      Conan the Barbarian\n",
       "903               How to Train Your Dragon 2\n",
       "194                                  Warrior\n",
       "271        The Hobbit: An Unexpected Journey\n",
       "533                                     Lucy\n",
       "969                          The Lone Ranger\n",
       "802                                  Beowulf\n",
       "621                     Underworld Awakening\n",
       "871                     Dragonball Evolution\n",
       "38                     The Magnificent Seven\n",
       "Name: Title, dtype: object"
      ]
     },
     "execution_count": 77,
     "metadata": {},
     "output_type": "execute_result"
    }
   ],
   "source": [
    "description_recommendation('Kung Fu Panda')"
   ]
  },
  {
   "cell_type": "code",
   "execution_count": 78,
   "metadata": {},
   "outputs": [
    {
     "data": {
      "text/plain": [
       "45      Pirates of the Caribbean: On Stranger Tides\n",
       "78       Pirates of the Caribbean: Dead Man's Chest\n",
       "309                                How to Be Single\n",
       "114    Harry Potter and the Deathly Hallows: Part 2\n",
       "195              Captain America: The First Avenger\n",
       "108                                      All We Had\n",
       "106                                    The Comedian\n",
       "35                       Captain America: Civil War\n",
       "278                          Everybody Wants Some!!\n",
       "753                                  This Means War\n",
       "503                                           Youth\n",
       "124                           The Dark Knight Rises\n",
       "46                                      Miss Sloane\n",
       "803                       Jack Ryan: Shadow Recruit\n",
       "736                        The Blackcoat's Daughter\n",
       "Name: Title, dtype: object"
      ]
     },
     "execution_count": 78,
     "metadata": {},
     "output_type": "execute_result"
    }
   ],
   "source": [
    "description_recommendation(\"Pirates of the Caribbean: At World's End\")"
   ]
  },
  {
   "cell_type": "code",
   "execution_count": 79,
   "metadata": {},
   "outputs": [],
   "source": [
    "#CONTENT BASED RECOMMENDATION USING GENRE,DIRECTOR AND TOP TWO ACTORS\n",
    "genre=imdb.copy()\n",
    "    "
   ]
  },
  {
   "cell_type": "code",
   "execution_count": 80,
   "metadata": {},
   "outputs": [
    {
     "name": "stderr",
     "output_type": "stream",
     "text": [
      "C:\\Users\\SARTHAK\\Anaconda3.3\\lib\\site-packages\\pandas\\core\\indexing.py:190: SettingWithCopyWarning: \n",
      "A value is trying to be set on a copy of a slice from a DataFrame\n",
      "\n",
      "See the caveats in the documentation: http://pandas.pydata.org/pandas-docs/stable/indexing.html#indexing-view-versus-copy\n",
      "  self._setitem_with_indexer(indexer, value)\n"
     ]
    }
   ],
   "source": [
    "for index,row in genre['Genre'].iteritems():\n",
    "    genre['Genre'].loc[index]=row.split(\",\")"
   ]
  },
  {
   "cell_type": "code",
   "execution_count": 81,
   "metadata": {},
   "outputs": [
    {
     "data": {
      "text/plain": [
       "0     [Action, Adventure, Sci-Fi]\n",
       "1    [Adventure, Mystery, Sci-Fi]\n",
       "2              [Horror, Thriller]\n",
       "3     [Animation, Comedy, Family]\n",
       "4    [Action, Adventure, Fantasy]\n",
       "Name: Genre, dtype: object"
      ]
     },
     "execution_count": 81,
     "metadata": {},
     "output_type": "execute_result"
    }
   ],
   "source": [
    "genre['Genre'].head(5)"
   ]
  },
  {
   "cell_type": "code",
   "execution_count": 82,
   "metadata": {},
   "outputs": [],
   "source": [
    "for index,row in genre['Actors'].iteritems():\n",
    "    #row=row.split(\",\")\n",
    "    #row=row[0:2]\n",
    "    genre['Actors'].loc[index]=row.split(',')[0:2]"
   ]
  },
  {
   "cell_type": "code",
   "execution_count": 83,
   "metadata": {},
   "outputs": [
    {
     "data": {
      "text/plain": [
       "['Matt Damon', ' Tian Jing']"
      ]
     },
     "execution_count": 83,
     "metadata": {},
     "output_type": "execute_result"
    }
   ],
   "source": [
    "genre['Actors'][5]"
   ]
  },
  {
   "cell_type": "code",
   "execution_count": 84,
   "metadata": {},
   "outputs": [],
   "source": [
    "def cleanit(x):\n",
    "    if isinstance(x,list):\n",
    "        return [str.lower(i.replace(\" \",\"\")) for i in x]\n",
    "    elif isinstance(x,str):\n",
    "        return str.lower(x.replace(\" \",\"\"))"
   ]
  },
  {
   "cell_type": "code",
   "execution_count": 85,
   "metadata": {},
   "outputs": [],
   "source": [
    "attributes=['Genre','Actors','Director']\n",
    "for i in attributes:\n",
    "    genre[i]=genre[i].apply(cleanit)"
   ]
  },
  {
   "cell_type": "code",
   "execution_count": 86,
   "metadata": {},
   "outputs": [],
   "source": [
    "def createmix(x):\n",
    "    return ' '.join(x['Genre'])+' '+' '.join(x['Actors'])+' '+x['Director']"
   ]
  },
  {
   "cell_type": "code",
   "execution_count": 87,
   "metadata": {},
   "outputs": [],
   "source": [
    "genre['mix']=genre.apply(createmix,axis=1)"
   ]
  },
  {
   "cell_type": "code",
   "execution_count": 88,
   "metadata": {},
   "outputs": [
    {
     "data": {
      "text/plain": [
       "0    action adventure sci-fi chrispratt vindiesel j...\n",
       "1    adventure mystery sci-fi noomirapace loganmars...\n",
       "2    horror thriller jamesmcavoy anyataylor-joy m.n...\n",
       "3    animation comedy family matthewmcconaughey ree...\n",
       "4    action adventure fantasy willsmith jaredleto d...\n",
       "Name: mix, dtype: object"
      ]
     },
     "execution_count": 88,
     "metadata": {},
     "output_type": "execute_result"
    }
   ],
   "source": [
    "genre['mix'].head(5)"
   ]
  },
  {
   "cell_type": "code",
   "execution_count": 89,
   "metadata": {},
   "outputs": [],
   "source": [
    "from sklearn.feature_extraction.text import CountVectorizer"
   ]
  },
  {
   "cell_type": "code",
   "execution_count": 90,
   "metadata": {},
   "outputs": [],
   "source": [
    "counter=CountVectorizer(stop_words='english')\n",
    "counter_matrix=counter.fit_transform(genre['mix'])"
   ]
  },
  {
   "cell_type": "code",
   "execution_count": 91,
   "metadata": {},
   "outputs": [
    {
     "name": "stdout",
     "output_type": "stream",
     "text": [
      "  (0, 9)\t1\n",
      "  (0, 22)\t1\n",
      "  (0, 1461)\t1\n",
      "  (0, 515)\t1\n",
      "  (0, 281)\t1\n",
      "  (0, 1646)\t1\n",
      "  (0, 690)\t1\n",
      "  (1, 22)\t1\n",
      "  (1, 1461)\t1\n",
      "  (1, 515)\t1\n",
      "  (1, 1191)\t1\n",
      "  (1, 1245)\t1\n",
      "  (1, 1004)\t1\n",
      "  (1, 586)\t1\n",
      "  (1, 1366)\t1\n",
      "  (2, 635)\t1\n",
      "  (2, 1589)\t1\n",
      "  (2, 696)\t1\n",
      "  (2, 130)\t1\n",
      "  (2, 859)\t1\n",
      "  (2, 1235)\t1\n",
      "  (3, 102)\t1\n",
      "  (3, 320)\t1\n",
      "  (3, 508)\t1\n",
      "  (3, 1088)\t1\n",
      "  :\t:\n",
      "  (995, 332)\t1\n",
      "  (995, 271)\t1\n",
      "  (995, 188)\t1\n",
      "  (996, 635)\t1\n",
      "  (996, 453)\t1\n",
      "  (996, 972)\t1\n",
      "  (996, 616)\t1\n",
      "  (997, 428)\t1\n",
      "  (997, 1188)\t1\n",
      "  (997, 1397)\t1\n",
      "  (997, 832)\t1\n",
      "  (997, 304)\t1\n",
      "  (997, 1377)\t1\n",
      "  (997, 215)\t1\n",
      "  (998, 22)\t1\n",
      "  (998, 320)\t1\n",
      "  (998, 14)\t1\n",
      "  (998, 1170)\t1\n",
      "  (998, 1463)\t1\n",
      "  (999, 320)\t1\n",
      "  (999, 508)\t1\n",
      "  (999, 509)\t1\n",
      "  (999, 748)\t1\n",
      "  (999, 159)\t1\n",
      "  (999, 934)\t1\n"
     ]
    }
   ],
   "source": [
    "print(counter_matrix)"
   ]
  },
  {
   "cell_type": "code",
   "execution_count": 92,
   "metadata": {},
   "outputs": [
    {
     "data": {
      "text/plain": [
       "(1000, 1705)"
      ]
     },
     "execution_count": 92,
     "metadata": {},
     "output_type": "execute_result"
    }
   ],
   "source": [
    "counter_matrix.shape"
   ]
  },
  {
   "cell_type": "code",
   "execution_count": 93,
   "metadata": {},
   "outputs": [],
   "source": [
    "from sklearn.metrics.pairwise import cosine_similarity"
   ]
  },
  {
   "cell_type": "code",
   "execution_count": 94,
   "metadata": {},
   "outputs": [],
   "source": [
    "cos_sim_gen=cosine_similarity(counter_matrix,counter_matrix)"
   ]
  },
  {
   "cell_type": "code",
   "execution_count": 95,
   "metadata": {},
   "outputs": [],
   "source": [
    "indexes=pd.Series(genre.index,index=genre['Title'])"
   ]
  },
  {
   "cell_type": "code",
   "execution_count": 96,
   "metadata": {},
   "outputs": [],
   "source": [
    "def genre_actor_recommendation(title,cos_sim=cos_sim_gen):\n",
    "    indx=indexes[title]\n",
    "    sim_scores=list(enumerate(cos_sim[indx]))\n",
    "    sim_scores=sorted(sim_scores,key=lambda x:x[1],reverse=True)\n",
    "    sim_scores=sim_scores[1:16]\n",
    "    film_index=[i[0] for i in sim_scores]\n",
    "    return genre['Title'].iloc[film_index]"
   ]
  },
  {
   "cell_type": "code",
   "execution_count": 97,
   "metadata": {},
   "outputs": [
    {
     "data": {
      "text/plain": [
       "603               Kung Fu Panda 3\n",
       "384                The Lego Movie\n",
       "400                       Minions\n",
       "448                    Big Hero 6\n",
       "484                   Angry Birds\n",
       "772      How to Train Your Dragon\n",
       "802                       Beowulf\n",
       "903    How to Train Your Dragon 2\n",
       "284                      Hercules\n",
       "344                  Spider-Man 3\n",
       "368        The Amazing Spider-Man\n",
       "4                   Suicide Squad\n",
       "5                  The Great Wall\n",
       "8              The Lost City of Z\n",
       "15        The Secret Life of Pets\n",
       "Name: Title, dtype: object"
      ]
     },
     "execution_count": 97,
     "metadata": {},
     "output_type": "execute_result"
    }
   ],
   "source": [
    "genre_actor_recommendation('Kung Fu Panda')"
   ]
  },
  {
   "cell_type": "code",
   "execution_count": 98,
   "metadata": {},
   "outputs": [
    {
     "data": {
      "text/plain": [
       "78      Pirates of the Caribbean: Dead Man's Chest\n",
       "45     Pirates of the Caribbean: On Stranger Tides\n",
       "969                                The Lone Ranger\n",
       "4                                    Suicide Squad\n",
       "5                                   The Great Wall\n",
       "37                                  Doctor Strange\n",
       "50      Star Wars: Episode VII - The Force Awakens\n",
       "51                          Underworld: Blood Wars\n",
       "87                                          Avatar\n",
       "91                                        Warcraft\n",
       "101                                           Thor\n",
       "214                           Thor: The Dark World\n",
       "294                                   Man of Steel\n",
       "306                Alice Through the Looking Glass\n",
       "325                          The Last Witch Hunter\n",
       "Name: Title, dtype: object"
      ]
     },
     "execution_count": 98,
     "metadata": {},
     "output_type": "execute_result"
    }
   ],
   "source": [
    "genre_actor_recommendation(\"Pirates of the Caribbean: At World's End\")"
   ]
  },
  {
   "cell_type": "code",
   "execution_count": null,
   "metadata": {},
   "outputs": [],
   "source": []
  }
 ],
 "metadata": {
  "kernelspec": {
   "display_name": "Python 3",
   "language": "python",
   "name": "python3"
  },
  "language_info": {
   "codemirror_mode": {
    "name": "ipython",
    "version": 3
   },
   "file_extension": ".py",
   "mimetype": "text/x-python",
   "name": "python",
   "nbconvert_exporter": "python",
   "pygments_lexer": "ipython3",
   "version": "3.7.3"
  }
 },
 "nbformat": 4,
 "nbformat_minor": 2
}
